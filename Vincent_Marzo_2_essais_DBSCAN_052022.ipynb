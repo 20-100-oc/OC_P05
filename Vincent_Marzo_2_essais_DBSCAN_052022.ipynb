{
 "cells": [
  {
   "cell_type": "code",
   "execution_count": null,
   "id": "tAzrnMrBRnCU",
   "metadata": {
    "id": "tAzrnMrBRnCU"
   },
   "outputs": [],
   "source": [
    "# can't use all data for memory reason, only use half\n",
    "test_mode = True"
   ]
  },
  {
   "cell_type": "code",
   "execution_count": null,
   "id": "c7c81c4b",
   "metadata": {
    "id": "c7c81c4b"
   },
   "outputs": [],
   "source": [
    "import os\n",
    "import matplotlib.pyplot as plt\n",
    "import numpy as np\n",
    "import pandas as pd\n",
    "import seaborn as sns"
   ]
  },
  {
   "cell_type": "code",
   "execution_count": null,
   "id": "OC3WjeObRr7c",
   "metadata": {
    "id": "OC3WjeObRr7c"
   },
   "outputs": [],
   "source": [
    "# define root directory for the script\n",
    "root_dir = 'D:/OpenClassrooms/projet_5'\n",
    "dataset_name = 'df_final_4'"
   ]
  },
  {
   "cell_type": "code",
   "execution_count": null,
   "id": "lGhc7nKhsxkw",
   "metadata": {
    "id": "lGhc7nKhsxkw"
   },
   "outputs": [],
   "source": [
    "# for bigger plots\n",
    "scale_factor = 2\n",
    "\n",
    "default_size = [6.0, 4.0]\n",
    "scaled_size = [scale_factor * n for n in default_size]\n",
    "plt.rcParams['figure.figsize'] = scaled_size\n",
    "\n",
    "\n",
    "# to see all columns when looking at a dataframe\n",
    "pd.set_option('display.max_columns', None)"
   ]
  },
  {
   "cell_type": "code",
   "execution_count": null,
   "id": "2e3045d8",
   "metadata": {
    "colab": {
     "base_uri": "https://localhost:8080/",
     "height": 335
    },
    "executionInfo": {
     "elapsed": 410,
     "status": "ok",
     "timestamp": 1656710639398,
     "user": {
      "displayName": "Vincent",
      "userId": "00953070889543731066"
     },
     "user_tz": -120
    },
    "id": "2e3045d8",
    "outputId": "6b481e17-bdd7-4cfc-a41e-36a6a276ea80"
   },
   "outputs": [
    {
     "name": "stdout",
     "output_type": "stream",
     "text": [
      "(50000, 25)\n"
     ]
    },
    {
     "data": {
      "text/html": [
       "\n",
       "  <div id=\"df-5ca9cb74-0ef3-42b8-8ef8-9e3e2e15bbdf\">\n",
       "    <div class=\"colab-df-container\">\n",
       "      <div>\n",
       "<style scoped>\n",
       "    .dataframe tbody tr th:only-of-type {\n",
       "        vertical-align: middle;\n",
       "    }\n",
       "\n",
       "    .dataframe tbody tr th {\n",
       "        vertical-align: top;\n",
       "    }\n",
       "\n",
       "    .dataframe thead th {\n",
       "        text-align: right;\n",
       "    }\n",
       "</style>\n",
       "<table border=\"1\" class=\"dataframe\">\n",
       "  <thead>\n",
       "    <tr style=\"text-align: right;\">\n",
       "      <th></th>\n",
       "      <th>customer_unique_id</th>\n",
       "      <th>M</th>\n",
       "      <th>freight_value</th>\n",
       "      <th>R</th>\n",
       "      <th>nb_days_order_approved</th>\n",
       "      <th>nb_days_delivered_carrier</th>\n",
       "      <th>nb_days_delivered_customer</th>\n",
       "      <th>nb_days_estimate_delivery</th>\n",
       "      <th>payment_sequential</th>\n",
       "      <th>payment_installments</th>\n",
       "      <th>...</th>\n",
       "      <th>review_score</th>\n",
       "      <th>review_title</th>\n",
       "      <th>review_message</th>\n",
       "      <th>nb_days_survey_respond</th>\n",
       "      <th>zip_code_prefix</th>\n",
       "      <th>customer_city</th>\n",
       "      <th>customer_state</th>\n",
       "      <th>geolocation_lat</th>\n",
       "      <th>geolocation_lng</th>\n",
       "      <th>F</th>\n",
       "    </tr>\n",
       "  </thead>\n",
       "  <tbody>\n",
       "    <tr>\n",
       "      <th>56373</th>\n",
       "      <td>9bed676175d3561a1610ac36f878be37</td>\n",
       "      <td>149.88</td>\n",
       "      <td>20.29</td>\n",
       "      <td>392</td>\n",
       "      <td>0.0</td>\n",
       "      <td>4.0</td>\n",
       "      <td>12.0</td>\n",
       "      <td>23.0</td>\n",
       "      <td>1.0</td>\n",
       "      <td>2.0</td>\n",
       "      <td>...</td>\n",
       "      <td>5.0</td>\n",
       "      <td>0</td>\n",
       "      <td>1</td>\n",
       "      <td>0.0</td>\n",
       "      <td>74913.0</td>\n",
       "      <td>aparecida de goiania</td>\n",
       "      <td>GO</td>\n",
       "      <td>-16.762495</td>\n",
       "      <td>-49.261729</td>\n",
       "      <td>1</td>\n",
       "    </tr>\n",
       "    <tr>\n",
       "      <th>44976</th>\n",
       "      <td>7c4c172f6ad96039c75d87385d74d0b8</td>\n",
       "      <td>99.99</td>\n",
       "      <td>13.04</td>\n",
       "      <td>237</td>\n",
       "      <td>0.0</td>\n",
       "      <td>0.0</td>\n",
       "      <td>5.0</td>\n",
       "      <td>15.0</td>\n",
       "      <td>1.0</td>\n",
       "      <td>3.0</td>\n",
       "      <td>...</td>\n",
       "      <td>5.0</td>\n",
       "      <td>0</td>\n",
       "      <td>1</td>\n",
       "      <td>1.0</td>\n",
       "      <td>14500.0</td>\n",
       "      <td>ituverava</td>\n",
       "      <td>SP</td>\n",
       "      <td>-20.331453</td>\n",
       "      <td>-47.789020</td>\n",
       "      <td>1</td>\n",
       "    </tr>\n",
       "    <tr>\n",
       "      <th>38670</th>\n",
       "      <td>6acbd95f502950f253a1d4d8c6b0f486</td>\n",
       "      <td>45.80</td>\n",
       "      <td>32.88</td>\n",
       "      <td>232</td>\n",
       "      <td>0.0</td>\n",
       "      <td>4.0</td>\n",
       "      <td>11.0</td>\n",
       "      <td>36.0</td>\n",
       "      <td>1.0</td>\n",
       "      <td>2.0</td>\n",
       "      <td>...</td>\n",
       "      <td>5.0</td>\n",
       "      <td>0</td>\n",
       "      <td>0</td>\n",
       "      <td>6.0</td>\n",
       "      <td>2955.0</td>\n",
       "      <td>sao paulo</td>\n",
       "      <td>SP</td>\n",
       "      <td>-23.468188</td>\n",
       "      <td>-46.720337</td>\n",
       "      <td>1</td>\n",
       "    </tr>\n",
       "    <tr>\n",
       "      <th>9264</th>\n",
       "      <td>19759427b9c94d4f7e25373d0410107c</td>\n",
       "      <td>44.90</td>\n",
       "      <td>15.23</td>\n",
       "      <td>549</td>\n",
       "      <td>0.0</td>\n",
       "      <td>0.0</td>\n",
       "      <td>18.0</td>\n",
       "      <td>23.0</td>\n",
       "      <td>1.0</td>\n",
       "      <td>4.0</td>\n",
       "      <td>...</td>\n",
       "      <td>5.0</td>\n",
       "      <td>0</td>\n",
       "      <td>0</td>\n",
       "      <td>2.0</td>\n",
       "      <td>24901.0</td>\n",
       "      <td>marica</td>\n",
       "      <td>RJ</td>\n",
       "      <td>-22.923867</td>\n",
       "      <td>-42.819631</td>\n",
       "      <td>1</td>\n",
       "    </tr>\n",
       "    <tr>\n",
       "      <th>68651</th>\n",
       "      <td>bdd710c465e9827aff166974ed49f6a9</td>\n",
       "      <td>19.00</td>\n",
       "      <td>12.79</td>\n",
       "      <td>676</td>\n",
       "      <td>0.0</td>\n",
       "      <td>1.0</td>\n",
       "      <td>6.0</td>\n",
       "      <td>14.0</td>\n",
       "      <td>1.0</td>\n",
       "      <td>1.0</td>\n",
       "      <td>...</td>\n",
       "      <td>5.0</td>\n",
       "      <td>0</td>\n",
       "      <td>0</td>\n",
       "      <td>0.0</td>\n",
       "      <td>17250.0</td>\n",
       "      <td>bariri</td>\n",
       "      <td>SP</td>\n",
       "      <td>-22.074149</td>\n",
       "      <td>-48.740361</td>\n",
       "      <td>1</td>\n",
       "    </tr>\n",
       "  </tbody>\n",
       "</table>\n",
       "<p>5 rows × 25 columns</p>\n",
       "</div>\n",
       "      <button class=\"colab-df-convert\" onclick=\"convertToInteractive('df-5ca9cb74-0ef3-42b8-8ef8-9e3e2e15bbdf')\"\n",
       "              title=\"Convert this dataframe to an interactive table.\"\n",
       "              style=\"display:none;\">\n",
       "        \n",
       "  <svg xmlns=\"http://www.w3.org/2000/svg\" height=\"24px\"viewBox=\"0 0 24 24\"\n",
       "       width=\"24px\">\n",
       "    <path d=\"M0 0h24v24H0V0z\" fill=\"none\"/>\n",
       "    <path d=\"M18.56 5.44l.94 2.06.94-2.06 2.06-.94-2.06-.94-.94-2.06-.94 2.06-2.06.94zm-11 1L8.5 8.5l.94-2.06 2.06-.94-2.06-.94L8.5 2.5l-.94 2.06-2.06.94zm10 10l.94 2.06.94-2.06 2.06-.94-2.06-.94-.94-2.06-.94 2.06-2.06.94z\"/><path d=\"M17.41 7.96l-1.37-1.37c-.4-.4-.92-.59-1.43-.59-.52 0-1.04.2-1.43.59L10.3 9.45l-7.72 7.72c-.78.78-.78 2.05 0 2.83L4 21.41c.39.39.9.59 1.41.59.51 0 1.02-.2 1.41-.59l7.78-7.78 2.81-2.81c.8-.78.8-2.07 0-2.86zM5.41 20L4 18.59l7.72-7.72 1.47 1.35L5.41 20z\"/>\n",
       "  </svg>\n",
       "      </button>\n",
       "      \n",
       "  <style>\n",
       "    .colab-df-container {\n",
       "      display:flex;\n",
       "      flex-wrap:wrap;\n",
       "      gap: 12px;\n",
       "    }\n",
       "\n",
       "    .colab-df-convert {\n",
       "      background-color: #E8F0FE;\n",
       "      border: none;\n",
       "      border-radius: 50%;\n",
       "      cursor: pointer;\n",
       "      display: none;\n",
       "      fill: #1967D2;\n",
       "      height: 32px;\n",
       "      padding: 0 0 0 0;\n",
       "      width: 32px;\n",
       "    }\n",
       "\n",
       "    .colab-df-convert:hover {\n",
       "      background-color: #E2EBFA;\n",
       "      box-shadow: 0px 1px 2px rgba(60, 64, 67, 0.3), 0px 1px 3px 1px rgba(60, 64, 67, 0.15);\n",
       "      fill: #174EA6;\n",
       "    }\n",
       "\n",
       "    [theme=dark] .colab-df-convert {\n",
       "      background-color: #3B4455;\n",
       "      fill: #D2E3FC;\n",
       "    }\n",
       "\n",
       "    [theme=dark] .colab-df-convert:hover {\n",
       "      background-color: #434B5C;\n",
       "      box-shadow: 0px 1px 3px 1px rgba(0, 0, 0, 0.15);\n",
       "      filter: drop-shadow(0px 1px 2px rgba(0, 0, 0, 0.3));\n",
       "      fill: #FFFFFF;\n",
       "    }\n",
       "  </style>\n",
       "\n",
       "      <script>\n",
       "        const buttonEl =\n",
       "          document.querySelector('#df-5ca9cb74-0ef3-42b8-8ef8-9e3e2e15bbdf button.colab-df-convert');\n",
       "        buttonEl.style.display =\n",
       "          google.colab.kernel.accessAllowed ? 'block' : 'none';\n",
       "\n",
       "        async function convertToInteractive(key) {\n",
       "          const element = document.querySelector('#df-5ca9cb74-0ef3-42b8-8ef8-9e3e2e15bbdf');\n",
       "          const dataTable =\n",
       "            await google.colab.kernel.invokeFunction('convertToInteractive',\n",
       "                                                     [key], {});\n",
       "          if (!dataTable) return;\n",
       "\n",
       "          const docLinkHtml = 'Like what you see? Visit the ' +\n",
       "            '<a target=\"_blank\" href=https://colab.research.google.com/notebooks/data_table.ipynb>data table notebook</a>'\n",
       "            + ' to learn more about interactive tables.';\n",
       "          element.innerHTML = '';\n",
       "          dataTable['output_type'] = 'display_data';\n",
       "          await google.colab.output.renderOutput(dataTable, element);\n",
       "          const docLink = document.createElement('div');\n",
       "          docLink.innerHTML = docLinkHtml;\n",
       "          element.appendChild(docLink);\n",
       "        }\n",
       "      </script>\n",
       "    </div>\n",
       "  </div>\n",
       "  "
      ],
      "text/plain": [
       "                     customer_unique_id       M  freight_value    R  \\\n",
       "56373  9bed676175d3561a1610ac36f878be37  149.88          20.29  392   \n",
       "44976  7c4c172f6ad96039c75d87385d74d0b8   99.99          13.04  237   \n",
       "38670  6acbd95f502950f253a1d4d8c6b0f486   45.80          32.88  232   \n",
       "9264   19759427b9c94d4f7e25373d0410107c   44.90          15.23  549   \n",
       "68651  bdd710c465e9827aff166974ed49f6a9   19.00          12.79  676   \n",
       "\n",
       "       nb_days_order_approved  nb_days_delivered_carrier  \\\n",
       "56373                     0.0                        4.0   \n",
       "44976                     0.0                        0.0   \n",
       "38670                     0.0                        4.0   \n",
       "9264                      0.0                        0.0   \n",
       "68651                     0.0                        1.0   \n",
       "\n",
       "       nb_days_delivered_customer  nb_days_estimate_delivery  \\\n",
       "56373                        12.0                       23.0   \n",
       "44976                         5.0                       15.0   \n",
       "38670                        11.0                       36.0   \n",
       "9264                         18.0                       23.0   \n",
       "68651                         6.0                       14.0   \n",
       "\n",
       "       payment_sequential  payment_installments  ...  review_score  \\\n",
       "56373                 1.0                   2.0  ...           5.0   \n",
       "44976                 1.0                   3.0  ...           5.0   \n",
       "38670                 1.0                   2.0  ...           5.0   \n",
       "9264                  1.0                   4.0  ...           5.0   \n",
       "68651                 1.0                   1.0  ...           5.0   \n",
       "\n",
       "       review_title  review_message  nb_days_survey_respond  zip_code_prefix  \\\n",
       "56373             0               1                     0.0          74913.0   \n",
       "44976             0               1                     1.0          14500.0   \n",
       "38670             0               0                     6.0           2955.0   \n",
       "9264              0               0                     2.0          24901.0   \n",
       "68651             0               0                     0.0          17250.0   \n",
       "\n",
       "              customer_city  customer_state  geolocation_lat  geolocation_lng  \\\n",
       "56373  aparecida de goiania              GO       -16.762495       -49.261729   \n",
       "44976             ituverava              SP       -20.331453       -47.789020   \n",
       "38670             sao paulo              SP       -23.468188       -46.720337   \n",
       "9264                 marica              RJ       -22.923867       -42.819631   \n",
       "68651                bariri              SP       -22.074149       -48.740361   \n",
       "\n",
       "       F  \n",
       "56373  1  \n",
       "44976  1  \n",
       "38670  1  \n",
       "9264   1  \n",
       "68651  1  \n",
       "\n",
       "[5 rows x 25 columns]"
      ]
     },
     "execution_count": 6,
     "metadata": {},
     "output_type": "execute_result"
    }
   ],
   "source": [
    "# get data\n",
    "data_path = root_dir + '/data/' + dataset_name + '.csv'\n",
    "df = pd.read_csv(data_path)\n",
    "\n",
    "test_mode_samples = 50000\n",
    "if test_mode:\n",
    "    df = df.sample(test_mode_samples)\n",
    "    \n",
    "print(df.shape)\n",
    "df.head()"
   ]
  },
  {
   "cell_type": "code",
   "execution_count": null,
   "id": "3e36dc7e",
   "metadata": {
    "colab": {
     "base_uri": "https://localhost:8080/",
     "height": 288
    },
    "executionInfo": {
     "elapsed": 14,
     "status": "ok",
     "timestamp": 1656710639399,
     "user": {
      "displayName": "Vincent",
      "userId": "00953070889543731066"
     },
     "user_tz": -120
    },
    "id": "3e36dc7e",
    "outputId": "89d370e2-048b-4077-ca58-ee099aca1eee"
   },
   "outputs": [
    {
     "name": "stdout",
     "output_type": "stream",
     "text": [
      "(50000, 14)\n"
     ]
    },
    {
     "data": {
      "text/html": [
       "\n",
       "  <div id=\"df-70efbd44-6464-452e-81ad-bc80e4ccf1c0\">\n",
       "    <div class=\"colab-df-container\">\n",
       "      <div>\n",
       "<style scoped>\n",
       "    .dataframe tbody tr th:only-of-type {\n",
       "        vertical-align: middle;\n",
       "    }\n",
       "\n",
       "    .dataframe tbody tr th {\n",
       "        vertical-align: top;\n",
       "    }\n",
       "\n",
       "    .dataframe thead th {\n",
       "        text-align: right;\n",
       "    }\n",
       "</style>\n",
       "<table border=\"1\" class=\"dataframe\">\n",
       "  <thead>\n",
       "    <tr style=\"text-align: right;\">\n",
       "      <th></th>\n",
       "      <th>R</th>\n",
       "      <th>F</th>\n",
       "      <th>M</th>\n",
       "      <th>review_title</th>\n",
       "      <th>review_message</th>\n",
       "      <th>payment_installments</th>\n",
       "      <th>payment_sequential</th>\n",
       "      <th>nb_days_survey_respond</th>\n",
       "      <th>pay_boleto</th>\n",
       "      <th>pay_credit_card</th>\n",
       "      <th>pay_debit_card</th>\n",
       "      <th>pay_voucher</th>\n",
       "      <th>freight_value</th>\n",
       "      <th>payment_value</th>\n",
       "    </tr>\n",
       "  </thead>\n",
       "  <tbody>\n",
       "    <tr>\n",
       "      <th>56373</th>\n",
       "      <td>392</td>\n",
       "      <td>1</td>\n",
       "      <td>149.88</td>\n",
       "      <td>0</td>\n",
       "      <td>1</td>\n",
       "      <td>2.0</td>\n",
       "      <td>1.0</td>\n",
       "      <td>0.0</td>\n",
       "      <td>0</td>\n",
       "      <td>1</td>\n",
       "      <td>0</td>\n",
       "      <td>0</td>\n",
       "      <td>20.29</td>\n",
       "      <td>170.17</td>\n",
       "    </tr>\n",
       "    <tr>\n",
       "      <th>44976</th>\n",
       "      <td>237</td>\n",
       "      <td>1</td>\n",
       "      <td>99.99</td>\n",
       "      <td>0</td>\n",
       "      <td>1</td>\n",
       "      <td>3.0</td>\n",
       "      <td>1.0</td>\n",
       "      <td>1.0</td>\n",
       "      <td>0</td>\n",
       "      <td>1</td>\n",
       "      <td>0</td>\n",
       "      <td>0</td>\n",
       "      <td>13.04</td>\n",
       "      <td>113.03</td>\n",
       "    </tr>\n",
       "    <tr>\n",
       "      <th>38670</th>\n",
       "      <td>232</td>\n",
       "      <td>1</td>\n",
       "      <td>45.80</td>\n",
       "      <td>0</td>\n",
       "      <td>0</td>\n",
       "      <td>2.0</td>\n",
       "      <td>1.0</td>\n",
       "      <td>6.0</td>\n",
       "      <td>0</td>\n",
       "      <td>1</td>\n",
       "      <td>0</td>\n",
       "      <td>0</td>\n",
       "      <td>32.88</td>\n",
       "      <td>67.72</td>\n",
       "    </tr>\n",
       "    <tr>\n",
       "      <th>9264</th>\n",
       "      <td>549</td>\n",
       "      <td>1</td>\n",
       "      <td>44.90</td>\n",
       "      <td>0</td>\n",
       "      <td>0</td>\n",
       "      <td>4.0</td>\n",
       "      <td>1.0</td>\n",
       "      <td>2.0</td>\n",
       "      <td>0</td>\n",
       "      <td>1</td>\n",
       "      <td>0</td>\n",
       "      <td>0</td>\n",
       "      <td>15.23</td>\n",
       "      <td>60.13</td>\n",
       "    </tr>\n",
       "    <tr>\n",
       "      <th>68651</th>\n",
       "      <td>676</td>\n",
       "      <td>1</td>\n",
       "      <td>19.00</td>\n",
       "      <td>0</td>\n",
       "      <td>0</td>\n",
       "      <td>1.0</td>\n",
       "      <td>1.0</td>\n",
       "      <td>0.0</td>\n",
       "      <td>0</td>\n",
       "      <td>1</td>\n",
       "      <td>0</td>\n",
       "      <td>0</td>\n",
       "      <td>12.79</td>\n",
       "      <td>31.79</td>\n",
       "    </tr>\n",
       "  </tbody>\n",
       "</table>\n",
       "</div>\n",
       "      <button class=\"colab-df-convert\" onclick=\"convertToInteractive('df-70efbd44-6464-452e-81ad-bc80e4ccf1c0')\"\n",
       "              title=\"Convert this dataframe to an interactive table.\"\n",
       "              style=\"display:none;\">\n",
       "        \n",
       "  <svg xmlns=\"http://www.w3.org/2000/svg\" height=\"24px\"viewBox=\"0 0 24 24\"\n",
       "       width=\"24px\">\n",
       "    <path d=\"M0 0h24v24H0V0z\" fill=\"none\"/>\n",
       "    <path d=\"M18.56 5.44l.94 2.06.94-2.06 2.06-.94-2.06-.94-.94-2.06-.94 2.06-2.06.94zm-11 1L8.5 8.5l.94-2.06 2.06-.94-2.06-.94L8.5 2.5l-.94 2.06-2.06.94zm10 10l.94 2.06.94-2.06 2.06-.94-2.06-.94-.94-2.06-.94 2.06-2.06.94z\"/><path d=\"M17.41 7.96l-1.37-1.37c-.4-.4-.92-.59-1.43-.59-.52 0-1.04.2-1.43.59L10.3 9.45l-7.72 7.72c-.78.78-.78 2.05 0 2.83L4 21.41c.39.39.9.59 1.41.59.51 0 1.02-.2 1.41-.59l7.78-7.78 2.81-2.81c.8-.78.8-2.07 0-2.86zM5.41 20L4 18.59l7.72-7.72 1.47 1.35L5.41 20z\"/>\n",
       "  </svg>\n",
       "      </button>\n",
       "      \n",
       "  <style>\n",
       "    .colab-df-container {\n",
       "      display:flex;\n",
       "      flex-wrap:wrap;\n",
       "      gap: 12px;\n",
       "    }\n",
       "\n",
       "    .colab-df-convert {\n",
       "      background-color: #E8F0FE;\n",
       "      border: none;\n",
       "      border-radius: 50%;\n",
       "      cursor: pointer;\n",
       "      display: none;\n",
       "      fill: #1967D2;\n",
       "      height: 32px;\n",
       "      padding: 0 0 0 0;\n",
       "      width: 32px;\n",
       "    }\n",
       "\n",
       "    .colab-df-convert:hover {\n",
       "      background-color: #E2EBFA;\n",
       "      box-shadow: 0px 1px 2px rgba(60, 64, 67, 0.3), 0px 1px 3px 1px rgba(60, 64, 67, 0.15);\n",
       "      fill: #174EA6;\n",
       "    }\n",
       "\n",
       "    [theme=dark] .colab-df-convert {\n",
       "      background-color: #3B4455;\n",
       "      fill: #D2E3FC;\n",
       "    }\n",
       "\n",
       "    [theme=dark] .colab-df-convert:hover {\n",
       "      background-color: #434B5C;\n",
       "      box-shadow: 0px 1px 3px 1px rgba(0, 0, 0, 0.15);\n",
       "      filter: drop-shadow(0px 1px 2px rgba(0, 0, 0, 0.3));\n",
       "      fill: #FFFFFF;\n",
       "    }\n",
       "  </style>\n",
       "\n",
       "      <script>\n",
       "        const buttonEl =\n",
       "          document.querySelector('#df-70efbd44-6464-452e-81ad-bc80e4ccf1c0 button.colab-df-convert');\n",
       "        buttonEl.style.display =\n",
       "          google.colab.kernel.accessAllowed ? 'block' : 'none';\n",
       "\n",
       "        async function convertToInteractive(key) {\n",
       "          const element = document.querySelector('#df-70efbd44-6464-452e-81ad-bc80e4ccf1c0');\n",
       "          const dataTable =\n",
       "            await google.colab.kernel.invokeFunction('convertToInteractive',\n",
       "                                                     [key], {});\n",
       "          if (!dataTable) return;\n",
       "\n",
       "          const docLinkHtml = 'Like what you see? Visit the ' +\n",
       "            '<a target=\"_blank\" href=https://colab.research.google.com/notebooks/data_table.ipynb>data table notebook</a>'\n",
       "            + ' to learn more about interactive tables.';\n",
       "          element.innerHTML = '';\n",
       "          dataTable['output_type'] = 'display_data';\n",
       "          await google.colab.output.renderOutput(dataTable, element);\n",
       "          const docLink = document.createElement('div');\n",
       "          docLink.innerHTML = docLinkHtml;\n",
       "          element.appendChild(docLink);\n",
       "        }\n",
       "      </script>\n",
       "    </div>\n",
       "  </div>\n",
       "  "
      ],
      "text/plain": [
       "         R  F       M  review_title  review_message  payment_installments  \\\n",
       "56373  392  1  149.88             0               1                   2.0   \n",
       "44976  237  1   99.99             0               1                   3.0   \n",
       "38670  232  1   45.80             0               0                   2.0   \n",
       "9264   549  1   44.90             0               0                   4.0   \n",
       "68651  676  1   19.00             0               0                   1.0   \n",
       "\n",
       "       payment_sequential  nb_days_survey_respond  pay_boleto  \\\n",
       "56373                 1.0                     0.0           0   \n",
       "44976                 1.0                     1.0           0   \n",
       "38670                 1.0                     6.0           0   \n",
       "9264                  1.0                     2.0           0   \n",
       "68651                 1.0                     0.0           0   \n",
       "\n",
       "       pay_credit_card  pay_debit_card  pay_voucher  freight_value  \\\n",
       "56373                1               0            0          20.29   \n",
       "44976                1               0            0          13.04   \n",
       "38670                1               0            0          32.88   \n",
       "9264                 1               0            0          15.23   \n",
       "68651                1               0            0          12.79   \n",
       "\n",
       "       payment_value  \n",
       "56373         170.17  \n",
       "44976         113.03  \n",
       "38670          67.72  \n",
       "9264           60.13  \n",
       "68651          31.79  "
      ]
     },
     "execution_count": 7,
     "metadata": {},
     "output_type": "execute_result"
    }
   ],
   "source": [
    "# make subset of the final dataframe for clustering with a model\n",
    "\n",
    "to_keep = ['R', \n",
    "           'F', \n",
    "           'M', \n",
    "           'review_title', \n",
    "           'review_message', \n",
    "           'payment_installments', \n",
    "           'payment_sequential', \n",
    "           'nb_days_survey_respond', \n",
    "           'pay_boleto', \n",
    "           'pay_credit_card', \n",
    "           'pay_debit_card', \n",
    "           'pay_voucher', \n",
    "           'freight_value', \n",
    "           'payment_value'\n",
    "          ]\n",
    "\n",
    "data = df[to_keep]\n",
    "#data = df.drop(to_drop, axis=1)\n",
    "\n",
    "print(data.shape)\n",
    "data.head()"
   ]
  },
  {
   "cell_type": "code",
   "execution_count": null,
   "id": "8b03de2a",
   "metadata": {
    "id": "8b03de2a"
   },
   "outputs": [],
   "source": [
    "# data to numpy & normalize\n",
    "\n",
    "X = data.to_numpy()\n",
    "\n",
    "from sklearn.preprocessing import StandardScaler\n",
    "scaler = StandardScaler()\n",
    "X = scaler.fit_transform(X)"
   ]
  },
  {
   "cell_type": "code",
   "execution_count": null,
   "id": "36644108",
   "metadata": {
    "colab": {
     "base_uri": "https://localhost:8080/"
    },
    "executionInfo": {
     "elapsed": 169662,
     "status": "ok",
     "timestamp": 1656710809051,
     "user": {
      "displayName": "Vincent",
      "userId": "00953070889543731066"
     },
     "user_tz": -120
    },
    "id": "36644108",
    "outputId": "c315789c-d9a7-4741-9c50-90f30a939b5b"
   },
   "outputs": [
    {
     "name": "stdout",
     "output_type": "stream",
     "text": [
      "Estimated number of clusters: 3\n",
      "Estimated number of noise points: 477\n",
      "Silhouette Coefficient: 0.476\n"
     ]
    }
   ],
   "source": [
    "# DBSCAN\n",
    "from sklearn.cluster import DBSCAN\n",
    "model = DBSCAN(min_samples=100, eps=4)\n",
    "model.fit(X)\n",
    "pred = model.labels_\n",
    "\n",
    "from sklearn import metrics\n",
    "silhouette = metrics.silhouette_score(X, pred)\n",
    "\n",
    "# Number of clusters in labels, ignoring noise if present.\n",
    "n_clusters_ = len(set(pred)) - (1 if -1 in pred else 0)\n",
    "n_noise_ = list(pred).count(-1)\n",
    "\n",
    "print(\"Estimated number of clusters: %d\" % n_clusters_)\n",
    "print(\"Estimated number of noise points: %d\" % n_noise_)\n",
    "print(\"Silhouette Coefficient: %0.3f\" % silhouette)"
   ]
  },
  {
   "cell_type": "code",
   "execution_count": null,
   "id": "77fba126",
   "metadata": {
    "colab": {
     "base_uri": "https://localhost:8080/"
    },
    "executionInfo": {
     "elapsed": 28,
     "status": "ok",
     "timestamp": 1656710809055,
     "user": {
      "displayName": "Vincent",
      "userId": "00953070889543731066"
     },
     "user_tz": -120
    },
    "id": "77fba126",
    "outputId": "c68568b6-b8cf-4db3-8ed7-d96805a4c71f"
   },
   "outputs": [
    {
     "name": "stdout",
     "output_type": "stream",
     "text": [
      "(50000, 22)\n"
     ]
    }
   ],
   "source": [
    "# select columns to graph\n",
    "types = ['int64', 'float64']\n",
    "\n",
    "to_graph = []\n",
    "for column in df:\n",
    "    if df[column].dtypes in types:\n",
    "        to_graph.append(column)\n",
    "\n",
    "df_graph = df[to_graph]\n",
    "df_graph = df_graph.drop('zip_code_prefix', axis=1)\n",
    "df_graph['pred'] = pred\n",
    "print(df_graph.shape)"
   ]
  },
  {
   "cell_type": "code",
   "execution_count": null,
   "id": "5e21910c",
   "metadata": {
    "colab": {
     "base_uri": "https://localhost:8080/"
    },
    "executionInfo": {
     "elapsed": 25,
     "status": "ok",
     "timestamp": 1656710809057,
     "user": {
      "displayName": "Vincent",
      "userId": "00953070889543731066"
     },
     "user_tz": -120
    },
    "id": "5e21910c",
    "outputId": "3d357bf5-670a-4340-e213-ed3ac0b85f36"
   },
   "outputs": [
    {
     "name": "stdout",
     "output_type": "stream",
     "text": [
      " 0    47492\n",
      " 2     1299\n",
      " 1      732\n",
      "-1      477\n",
      "Name: pred, dtype: int64\n"
     ]
    }
   ],
   "source": [
    "# population of each cluster\n",
    "print(df_graph['pred'].value_counts())"
   ]
  },
  {
   "cell_type": "code",
   "execution_count": null,
   "id": "4d322b7f",
   "metadata": {
    "colab": {
     "base_uri": "https://localhost:8080/",
     "height": 1000
    },
    "executionInfo": {
     "elapsed": 4506,
     "status": "ok",
     "timestamp": 1656710813542,
     "user": {
      "displayName": "Vincent",
      "userId": "00953070889543731066"
     },
     "user_tz": -120
    },
    "id": "4d322b7f",
    "outputId": "b7eae283-6cb3-4ccc-cbd1-7e50d1e6af62",
    "scrolled": true
   },
   "outputs": [
    {
     "name": "stdout",
     "output_type": "stream",
     "text": [
      "M :\n"
     ]
    },
    {
     "data": {
      "image/png": "[encoded data removed]",
      "text/plain": [
       "<Figure size 864x576 with 1 Axes>"
      ]
     },
     "metadata": {
      "needs_background": "light"
     },
     "output_type": "display_data"
    },
    {
     "name": "stdout",
     "output_type": "stream",
     "text": [
      "\n",
      "\n",
      "\n",
      "\n",
      "freight_value :\n"
     ]
    },
    {
     "data": {
      "image/png": "[encoded data removed]",
      "text/plain": [
       "<Figure size 864x576 with 1 Axes>"
      ]
     },
     "metadata": {
      "needs_background": "light"
     },
     "output_type": "display_data"
    },
    {
     "name": "stdout",
     "output_type": "stream",
     "text": [
      "\n",
      "\n",
      "\n",
      "\n",
      "R :\n"
     ]
    },
    {
     "data": {
      "image/png": "[encoded data removed]",
      "text/plain": [
       "<Figure size 864x576 with 1 Axes>"
      ]
     },
     "metadata": {
      "needs_background": "light"
     },
     "output_type": "display_data"
    },
    {
     "name": "stdout",
     "output_type": "stream",
     "text": [
      "\n",
      "\n",
      "\n",
      "\n",
      "nb_days_order_approved :\n"
     ]
    },
    {
     "data": {
      "image/png": "[encoded data removed]",
      "text/plain": [
       "<Figure size 864x576 with 1 Axes>"
      ]
     },
     "metadata": {
      "needs_background": "light"
     },
     "output_type": "display_data"
    },
    {
     "name": "stdout",
     "output_type": "stream",
     "text": [
      "\n",
      "\n",
      "\n",
      "\n",
      "nb_days_delivered_carrier :\n"
     ]
    },
    {
     "data": {
      "image/png": "[encoded data removed]",
      "text/plain": [
       "<Figure size 864x576 with 1 Axes>"
      ]
     },
     "metadata": {
      "needs_background": "light"
     },
     "output_type": "display_data"
    },
    {
     "name": "stdout",
     "output_type": "stream",
     "text": [
      "\n",
      "\n",
      "\n",
      "\n",
      "nb_days_delivered_customer :\n"
     ]
    },
    {
     "data": {
      "image/png": "[encoded data removed]",
      "text/plain": [
       "<Figure size 864x576 with 1 Axes>"
      ]
     },
     "metadata": {
      "needs_background": "light"
     },
     "output_type": "display_data"
    },
    {
     "name": "stdout",
     "output_type": "stream",
     "text": [
      "\n",
      "\n",
      "\n",
      "\n",
      "nb_days_estimate_delivery :\n"
     ]
    },
    {
     "data": {
      "image/png": "[encoded data removed]",
      "text/plain": [
       "<Figure size 864x576 with 1 Axes>"
      ]
     },
     "metadata": {
      "needs_background": "light"
     },
     "output_type": "display_data"
    },
    {
     "name": "stdout",
     "output_type": "stream",
     "text": [
      "\n",
      "\n",
      "\n",
      "\n",
      "payment_sequential :\n"
     ]
    },
    {
     "data": {
      "image/png": "[encoded data removed]",
      "text/plain": [
       "<Figure size 864x576 with 1 Axes>"
      ]
     },
     "metadata": {
      "needs_background": "light"
     },
     "output_type": "display_data"
    },
    {
     "name": "stdout",
     "output_type": "stream",
     "text": [
      "\n",
      "\n",
      "\n",
      "\n",
      "payment_installments :\n"
     ]
    },
    {
     "data": {
      "image/png": "[encoded data removed]",
      "text/plain": [
       "<Figure size 864x576 with 1 Axes>"
      ]
     },
     "metadata": {
      "needs_background": "light"
     },
     "output_type": "display_data"
    },
    {
     "name": "stdout",
     "output_type": "stream",
     "text": [
      "\n",
      "\n",
      "\n",
      "\n",
      "pay_boleto :\n"
     ]
    },
    {
     "data": {
      "image/png": "[encoded data removed]",
      "text/plain": [
       "<Figure size 864x576 with 1 Axes>"
      ]
     },
     "metadata": {
      "needs_background": "light"
     },
     "output_type": "display_data"
    },
    {
     "name": "stdout",
     "output_type": "stream",
     "text": [
      "\n",
      "\n",
      "\n",
      "\n",
      "pay_credit_card :\n"
     ]
    },
    {
     "data": {
      "image/png": "[encoded data removed]",
      "text/plain": [
       "<Figure size 864x576 with 1 Axes>"
      ]
     },
     "metadata": {
      "needs_background": "light"
     },
     "output_type": "display_data"
    },
    {
     "name": "stdout",
     "output_type": "stream",
     "text": [
      "\n",
      "\n",
      "\n",
      "\n",
      "pay_debit_card :\n"
     ]
    },
    {
     "data": {
      "image/png": "[encoded data removed]",
      "text/plain": [
       "<Figure size 864x576 with 1 Axes>"
      ]
     },
     "metadata": {
      "needs_background": "light"
     },
     "output_type": "display_data"
    },
    {
     "name": "stdout",
     "output_type": "stream",
     "text": [
      "\n",
      "\n",
      "\n",
      "\n",
      "pay_voucher :\n"
     ]
    },
    {
     "data": {
      "image/png": "[encoded data removed]",
      "text/plain": [
       "<Figure size 864x576 with 1 Axes>"
      ]
     },
     "metadata": {
      "needs_background": "light"
     },
     "output_type": "display_data"
    },
    {
     "name": "stdout",
     "output_type": "stream",
     "text": [
      "\n",
      "\n",
      "\n",
      "\n",
      "payment_value :\n"
     ]
    },
    {
     "data": {
      "image/png": "[encoded data removed]",
      "text/plain": [
       "<Figure size 864x576 with 1 Axes>"
      ]
     },
     "metadata": {
      "needs_background": "light"
     },
     "output_type": "display_data"
    },
    {
     "name": "stdout",
     "output_type": "stream",
     "text": [
      "\n",
      "\n",
      "\n",
      "\n",
      "review_score :\n"
     ]
    },
    {
     "data": {
      "image/png": "[encoded data removed]",
      "text/plain": [
       "<Figure size 864x576 with 1 Axes>"
      ]
     },
     "metadata": {
      "needs_background": "light"
     },
     "output_type": "display_data"
    },
    {
     "name": "stdout",
     "output_type": "stream",
     "text": [
      "\n",
      "\n",
      "\n",
      "\n",
      "review_title :\n"
     ]
    },
    {
     "data": {
      "image/png": "[encoded data removed]",
      "text/plain": [
       "<Figure size 864x576 with 1 Axes>"
      ]
     },
     "metadata": {
      "needs_background": "light"
     },
     "output_type": "display_data"
    },
    {
     "name": "stdout",
     "output_type": "stream",
     "text": [
      "\n",
      "\n",
      "\n",
      "\n",
      "review_message :\n"
     ]
    },
    {
     "data": {
      "image/png": "[encoded data removed]",
      "text/plain": [
       "<Figure size 864x576 with 1 Axes>"
      ]
     },
     "metadata": {
      "needs_background": "light"
     },
     "output_type": "display_data"
    },
    {
     "name": "stdout",
     "output_type": "stream",
     "text": [
      "\n",
      "\n",
      "\n",
      "\n",
      "nb_days_survey_respond :\n"
     ]
    },
    {
     "data": {
      "image/png": "[encoded data removed]",
      "text/plain": [
       "<Figure size 864x576 with 1 Axes>"
      ]
     },
     "metadata": {
      "needs_background": "light"
     },
     "output_type": "display_data"
    },
    {
     "name": "stdout",
     "output_type": "stream",
     "text": [
      "\n",
      "\n",
      "\n",
      "\n",
      "geolocation_lat :\n"
     ]
    },
    {
     "data": {
      "image/png": "[encoded data removed]",
      "text/plain": [
       "<Figure size 864x576 with 1 Axes>"
      ]
     },
     "metadata": {
      "needs_background": "light"
     },
     "output_type": "display_data"
    },
    {
     "name": "stdout",
     "output_type": "stream",
     "text": [
      "\n",
      "\n",
      "\n",
      "\n",
      "geolocation_lng :\n"
     ]
    },
    {
     "data": {
      "image/png": "[encoded data removed]",
      "text/plain": [
       "<Figure size 864x576 with 1 Axes>"
      ]
     },
     "metadata": {
      "needs_background": "light"
     },
     "output_type": "display_data"
    },
    {
     "name": "stdout",
     "output_type": "stream",
     "text": [
      "\n",
      "\n",
      "\n",
      "\n",
      "F :\n"
     ]
    },
    {
     "data": {
      "image/png": "[encoded data removed]",
      "text/plain": [
       "<Figure size 864x576 with 1 Axes>"
      ]
     },
     "metadata": {
      "needs_background": "light"
     },
     "output_type": "display_data"
    },
    {
     "name": "stdout",
     "output_type": "stream",
     "text": [
      "\n",
      "\n",
      "\n",
      "\n",
      "pred :\n"
     ]
    },
    {
     "data": {
      "image/png": "[encoded data removed]",
      "text/plain": [
       "<Figure size 864x576 with 1 Axes>"
      ]
     },
     "metadata": {
      "needs_background": "light"
     },
     "output_type": "display_data"
    },
    {
     "name": "stdout",
     "output_type": "stream",
     "text": [
      "\n",
      "\n",
      "\n",
      "\n"
     ]
    }
   ],
   "source": [
    "for column in df_graph:\n",
    "    print(column, ':')\n",
    "    plt.figure()\n",
    "    sns.boxplot(x='pred', y=column, data=df_graph, showmeans=True)\n",
    "    plt.show()\n",
    "    print('\\n'*3)"
   ]
  },
  {
   "cell_type": "code",
   "execution_count": null,
   "id": "c6e92d85",
   "metadata": {
    "colab": {
     "base_uri": "https://localhost:8080/",
     "height": 268
    },
    "executionInfo": {
     "elapsed": 15,
     "status": "ok",
     "timestamp": 1656710813544,
     "user": {
      "displayName": "Vincent",
      "userId": "00953070889543731066"
     },
     "user_tz": -120
    },
    "id": "c6e92d85",
    "outputId": "ff9296c5-94cd-477b-f75e-397150a54435"
   },
   "outputs": [
    {
     "data": {
      "text/html": [
       "\n",
       "  <div id=\"df-e596a8d9-0c90-4d47-9a46-a59531dc2823\">\n",
       "    <div class=\"colab-df-container\">\n",
       "      <div>\n",
       "<style scoped>\n",
       "    .dataframe tbody tr th:only-of-type {\n",
       "        vertical-align: middle;\n",
       "    }\n",
       "\n",
       "    .dataframe tbody tr th {\n",
       "        vertical-align: top;\n",
       "    }\n",
       "\n",
       "    .dataframe thead th {\n",
       "        text-align: right;\n",
       "    }\n",
       "</style>\n",
       "<table border=\"1\" class=\"dataframe\">\n",
       "  <thead>\n",
       "    <tr style=\"text-align: right;\">\n",
       "      <th></th>\n",
       "      <th>pred</th>\n",
       "      <th>M</th>\n",
       "      <th>freight_value</th>\n",
       "      <th>R</th>\n",
       "      <th>nb_days_order_approved</th>\n",
       "      <th>nb_days_delivered_carrier</th>\n",
       "      <th>nb_days_delivered_customer</th>\n",
       "      <th>nb_days_estimate_delivery</th>\n",
       "      <th>payment_sequential</th>\n",
       "      <th>payment_installments</th>\n",
       "      <th>...</th>\n",
       "      <th>pay_debit_card</th>\n",
       "      <th>pay_voucher</th>\n",
       "      <th>payment_value</th>\n",
       "      <th>review_score</th>\n",
       "      <th>review_title</th>\n",
       "      <th>review_message</th>\n",
       "      <th>nb_days_survey_respond</th>\n",
       "      <th>geolocation_lat</th>\n",
       "      <th>geolocation_lng</th>\n",
       "      <th>F</th>\n",
       "    </tr>\n",
       "  </thead>\n",
       "  <tbody>\n",
       "    <tr>\n",
       "      <th>0</th>\n",
       "      <td>-1</td>\n",
       "      <td>742.741509</td>\n",
       "      <td>194.291530</td>\n",
       "      <td>468.878407</td>\n",
       "      <td>0.325996</td>\n",
       "      <td>3.590147</td>\n",
       "      <td>12.884696</td>\n",
       "      <td>25.308176</td>\n",
       "      <td>6.937107</td>\n",
       "      <td>4.406709</td>\n",
       "      <td>...</td>\n",
       "      <td>0.100629</td>\n",
       "      <td>1.352201</td>\n",
       "      <td>827.777296</td>\n",
       "      <td>3.955660</td>\n",
       "      <td>0.213836</td>\n",
       "      <td>0.505241</td>\n",
       "      <td>38.238994</td>\n",
       "      <td>-20.885129</td>\n",
       "      <td>-45.851256</td>\n",
       "      <td>1.698113</td>\n",
       "    </tr>\n",
       "    <tr>\n",
       "      <th>1</th>\n",
       "      <td>0</td>\n",
       "      <td>133.034263</td>\n",
       "      <td>25.652105</td>\n",
       "      <td>474.586478</td>\n",
       "      <td>0.261791</td>\n",
       "      <td>2.715278</td>\n",
       "      <td>12.110187</td>\n",
       "      <td>23.343426</td>\n",
       "      <td>1.074939</td>\n",
       "      <td>2.966879</td>\n",
       "      <td>...</td>\n",
       "      <td>0.000000</td>\n",
       "      <td>0.044260</td>\n",
       "      <td>155.525116</td>\n",
       "      <td>4.149373</td>\n",
       "      <td>0.115746</td>\n",
       "      <td>0.407563</td>\n",
       "      <td>2.279816</td>\n",
       "      <td>-21.168856</td>\n",
       "      <td>-46.200575</td>\n",
       "      <td>1.000000</td>\n",
       "    </tr>\n",
       "    <tr>\n",
       "      <th>2</th>\n",
       "      <td>1</td>\n",
       "      <td>104.723579</td>\n",
       "      <td>21.411967</td>\n",
       "      <td>542.177596</td>\n",
       "      <td>0.168033</td>\n",
       "      <td>2.545082</td>\n",
       "      <td>10.650273</td>\n",
       "      <td>21.801913</td>\n",
       "      <td>1.034153</td>\n",
       "      <td>1.000000</td>\n",
       "      <td>...</td>\n",
       "      <td>1.000000</td>\n",
       "      <td>0.000000</td>\n",
       "      <td>124.431011</td>\n",
       "      <td>4.217213</td>\n",
       "      <td>0.213115</td>\n",
       "      <td>0.409836</td>\n",
       "      <td>1.894809</td>\n",
       "      <td>-21.514490</td>\n",
       "      <td>-46.120761</td>\n",
       "      <td>1.000000</td>\n",
       "    </tr>\n",
       "    <tr>\n",
       "      <th>3</th>\n",
       "      <td>2</td>\n",
       "      <td>221.804219</td>\n",
       "      <td>50.559376</td>\n",
       "      <td>487.601232</td>\n",
       "      <td>0.266359</td>\n",
       "      <td>2.931486</td>\n",
       "      <td>11.788684</td>\n",
       "      <td>23.633564</td>\n",
       "      <td>1.058122</td>\n",
       "      <td>3.394149</td>\n",
       "      <td>...</td>\n",
       "      <td>0.000000</td>\n",
       "      <td>0.084681</td>\n",
       "      <td>264.798845</td>\n",
       "      <td>4.210547</td>\n",
       "      <td>0.145497</td>\n",
       "      <td>0.510393</td>\n",
       "      <td>2.208237</td>\n",
       "      <td>-21.645512</td>\n",
       "      <td>-46.457234</td>\n",
       "      <td>2.000000</td>\n",
       "    </tr>\n",
       "  </tbody>\n",
       "</table>\n",
       "<p>4 rows × 22 columns</p>\n",
       "</div>\n",
       "      <button class=\"colab-df-convert\" onclick=\"convertToInteractive('df-e596a8d9-0c90-4d47-9a46-a59531dc2823')\"\n",
       "              title=\"Convert this dataframe to an interactive table.\"\n",
       "              style=\"display:none;\">\n",
       "        \n",
       "  <svg xmlns=\"http://www.w3.org/2000/svg\" height=\"24px\"viewBox=\"0 0 24 24\"\n",
       "       width=\"24px\">\n",
       "    <path d=\"M0 0h24v24H0V0z\" fill=\"none\"/>\n",
       "    <path d=\"M18.56 5.44l.94 2.06.94-2.06 2.06-.94-2.06-.94-.94-2.06-.94 2.06-2.06.94zm-11 1L8.5 8.5l.94-2.06 2.06-.94-2.06-.94L8.5 2.5l-.94 2.06-2.06.94zm10 10l.94 2.06.94-2.06 2.06-.94-2.06-.94-.94-2.06-.94 2.06-2.06.94z\"/><path d=\"M17.41 7.96l-1.37-1.37c-.4-.4-.92-.59-1.43-.59-.52 0-1.04.2-1.43.59L10.3 9.45l-7.72 7.72c-.78.78-.78 2.05 0 2.83L4 21.41c.39.39.9.59 1.41.59.51 0 1.02-.2 1.41-.59l7.78-7.78 2.81-2.81c.8-.78.8-2.07 0-2.86zM5.41 20L4 18.59l7.72-7.72 1.47 1.35L5.41 20z\"/>\n",
       "  </svg>\n",
       "      </button>\n",
       "      \n",
       "  <style>\n",
       "    .colab-df-container {\n",
       "      display:flex;\n",
       "      flex-wrap:wrap;\n",
       "      gap: 12px;\n",
       "    }\n",
       "\n",
       "    .colab-df-convert {\n",
       "      background-color: #E8F0FE;\n",
       "      border: none;\n",
       "      border-radius: 50%;\n",
       "      cursor: pointer;\n",
       "      display: none;\n",
       "      fill: #1967D2;\n",
       "      height: 32px;\n",
       "      padding: 0 0 0 0;\n",
       "      width: 32px;\n",
       "    }\n",
       "\n",
       "    .colab-df-convert:hover {\n",
       "      background-color: #E2EBFA;\n",
       "      box-shadow: 0px 1px 2px rgba(60, 64, 67, 0.3), 0px 1px 3px 1px rgba(60, 64, 67, 0.15);\n",
       "      fill: #174EA6;\n",
       "    }\n",
       "\n",
       "    [theme=dark] .colab-df-convert {\n",
       "      background-color: #3B4455;\n",
       "      fill: #D2E3FC;\n",
       "    }\n",
       "\n",
       "    [theme=dark] .colab-df-convert:hover {\n",
       "      background-color: #434B5C;\n",
       "      box-shadow: 0px 1px 3px 1px rgba(0, 0, 0, 0.15);\n",
       "      filter: drop-shadow(0px 1px 2px rgba(0, 0, 0, 0.3));\n",
       "      fill: #FFFFFF;\n",
       "    }\n",
       "  </style>\n",
       "\n",
       "      <script>\n",
       "        const buttonEl =\n",
       "          document.querySelector('#df-e596a8d9-0c90-4d47-9a46-a59531dc2823 button.colab-df-convert');\n",
       "        buttonEl.style.display =\n",
       "          google.colab.kernel.accessAllowed ? 'block' : 'none';\n",
       "\n",
       "        async function convertToInteractive(key) {\n",
       "          const element = document.querySelector('#df-e596a8d9-0c90-4d47-9a46-a59531dc2823');\n",
       "          const dataTable =\n",
       "            await google.colab.kernel.invokeFunction('convertToInteractive',\n",
       "                                                     [key], {});\n",
       "          if (!dataTable) return;\n",
       "\n",
       "          const docLinkHtml = 'Like what you see? Visit the ' +\n",
       "            '<a target=\"_blank\" href=https://colab.research.google.com/notebooks/data_table.ipynb>data table notebook</a>'\n",
       "            + ' to learn more about interactive tables.';\n",
       "          element.innerHTML = '';\n",
       "          dataTable['output_type'] = 'display_data';\n",
       "          await google.colab.output.renderOutput(dataTable, element);\n",
       "          const docLink = document.createElement('div');\n",
       "          docLink.innerHTML = docLinkHtml;\n",
       "          element.appendChild(docLink);\n",
       "        }\n",
       "      </script>\n",
       "    </div>\n",
       "  </div>\n",
       "  "
      ],
      "text/plain": [
       "   pred           M  freight_value           R  nb_days_order_approved  \\\n",
       "0    -1  742.741509     194.291530  468.878407                0.325996   \n",
       "1     0  133.034263      25.652105  474.586478                0.261791   \n",
       "2     1  104.723579      21.411967  542.177596                0.168033   \n",
       "3     2  221.804219      50.559376  487.601232                0.266359   \n",
       "\n",
       "   nb_days_delivered_carrier  nb_days_delivered_customer  \\\n",
       "0                   3.590147                   12.884696   \n",
       "1                   2.715278                   12.110187   \n",
       "2                   2.545082                   10.650273   \n",
       "3                   2.931486                   11.788684   \n",
       "\n",
       "   nb_days_estimate_delivery  payment_sequential  payment_installments  ...  \\\n",
       "0                  25.308176            6.937107              4.406709  ...   \n",
       "1                  23.343426            1.074939              2.966879  ...   \n",
       "2                  21.801913            1.034153              1.000000  ...   \n",
       "3                  23.633564            1.058122              3.394149  ...   \n",
       "\n",
       "   pay_debit_card  pay_voucher  payment_value  review_score  review_title  \\\n",
       "0        0.100629     1.352201     827.777296      3.955660      0.213836   \n",
       "1        0.000000     0.044260     155.525116      4.149373      0.115746   \n",
       "2        1.000000     0.000000     124.431011      4.217213      0.213115   \n",
       "3        0.000000     0.084681     264.798845      4.210547      0.145497   \n",
       "\n",
       "   review_message  nb_days_survey_respond  geolocation_lat  geolocation_lng  \\\n",
       "0        0.505241               38.238994       -20.885129       -45.851256   \n",
       "1        0.407563                2.279816       -21.168856       -46.200575   \n",
       "2        0.409836                1.894809       -21.514490       -46.120761   \n",
       "3        0.510393                2.208237       -21.645512       -46.457234   \n",
       "\n",
       "          F  \n",
       "0  1.698113  \n",
       "1  1.000000  \n",
       "2  1.000000  \n",
       "3  2.000000  \n",
       "\n",
       "[4 rows x 22 columns]"
      ]
     },
     "execution_count": 13,
     "metadata": {},
     "output_type": "execute_result"
    }
   ],
   "source": [
    "# clusters means\n",
    "df_graph_agg = df_graph.groupby('pred', as_index=False).agg(np.mean)\n",
    "df_graph_agg.head()"
   ]
  },
  {
   "cell_type": "code",
   "execution_count": null,
   "id": "45fc1403",
   "metadata": {
    "id": "45fc1403"
   },
   "outputs": [],
   "source": []
  }
 ],
 "metadata": {
  "colab": {
   "collapsed_sections": [],
   "machine_shape": "hm",
   "name": "DBSCAN.ipynb",
   "provenance": []
  },
  "gpuClass": "standard",
  "kernelspec": {
   "display_name": "Python 3 (ipykernel)",
   "language": "python",
   "name": "python3"
  },
  "language_info": {
   "codemirror_mode": {
    "name": "ipython",
    "version": 3
   },
   "file_extension": ".py",
   "mimetype": "text/x-python",
   "name": "python",
   "nbconvert_exporter": "python",
   "pygments_lexer": "ipython3",
   "version": "3.7.4"
  }
 },
 "nbformat": 4,
 "nbformat_minor": 5
}
