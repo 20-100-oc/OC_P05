{
 "cells": [
  {
   "cell_type": "code",
   "execution_count": null,
   "id": "6NNubZcfRoae",
   "metadata": {
    "id": "6NNubZcfRoae"
   },
   "outputs": [],
   "source": [
    "# can't use all data for memory reason, only use half\n",
    "test_mode = True"
   ]
  },
  {
   "cell_type": "code",
   "execution_count": null,
   "id": "0b81b3dc",
   "metadata": {
    "id": "0b81b3dc"
   },
   "outputs": [],
   "source": [
    "import os\n",
    "import matplotlib.pyplot as plt\n",
    "import numpy as np\n",
    "import pandas as pd\n",
    "import seaborn as sns"
   ]
  },
  {
   "cell_type": "code",
   "execution_count": null,
   "id": "8luCVG5xRuNk",
   "metadata": {
    "id": "8luCVG5xRuNk"
   },
   "outputs": [],
   "source": [
    "# define root directory for the script\n",
    "root_dir = 'D:/OpenClassrooms/projet_5'\n",
    "dataset_name = 'df_final_4'"
   ]
  },
  {
   "cell_type": "code",
   "execution_count": null,
   "id": "6D_IaHwjj0Yu",
   "metadata": {
    "id": "6D_IaHwjj0Yu"
   },
   "outputs": [],
   "source": [
    "# for bigger plots\n",
    "scale_factor = 2\n",
    "\n",
    "default_size = [6.0, 4.0]\n",
    "scaled_size = [scale_factor * n for n in default_size]\n",
    "plt.rcParams['figure.figsize'] = scaled_size\n",
    "\n",
    "\n",
    "# to see all columns when looking at a dataframe\n",
    "pd.set_option('display.max_columns', None)"
   ]
  },
  {
   "cell_type": "code",
   "execution_count": null,
   "id": "0c70c22c",
   "metadata": {
    "colab": {
     "base_uri": "https://localhost:8080/",
     "height": 305
    },
    "executionInfo": {
     "elapsed": 873,
     "status": "ok",
     "timestamp": 1656709486509,
     "user": {
      "displayName": "Vincent",
      "userId": "00953070889543731066"
     },
     "user_tz": -120
    },
    "id": "0c70c22c",
    "outputId": "6d313198-520c-4d30-8e10-b2e4323cf2b9"
   },
   "outputs": [
    {
     "name": "stdout",
     "output_type": "stream",
     "text": [
      "(50000, 25)\n"
     ]
    },
    {
     "data": {
      "text/html": [
       "\n",
       "  <div id=\"df-679c3314-5417-4b25-a77e-27f0490fbb4f\">\n",
       "    <div class=\"colab-df-container\">\n",
       "      <div>\n",
       "<style scoped>\n",
       "    .dataframe tbody tr th:only-of-type {\n",
       "        vertical-align: middle;\n",
       "    }\n",
       "\n",
       "    .dataframe tbody tr th {\n",
       "        vertical-align: top;\n",
       "    }\n",
       "\n",
       "    .dataframe thead th {\n",
       "        text-align: right;\n",
       "    }\n",
       "</style>\n",
       "<table border=\"1\" class=\"dataframe\">\n",
       "  <thead>\n",
       "    <tr style=\"text-align: right;\">\n",
       "      <th></th>\n",
       "      <th>customer_unique_id</th>\n",
       "      <th>M</th>\n",
       "      <th>freight_value</th>\n",
       "      <th>R</th>\n",
       "      <th>nb_days_order_approved</th>\n",
       "      <th>nb_days_delivered_carrier</th>\n",
       "      <th>nb_days_delivered_customer</th>\n",
       "      <th>nb_days_estimate_delivery</th>\n",
       "      <th>payment_sequential</th>\n",
       "      <th>payment_installments</th>\n",
       "      <th>pay_boleto</th>\n",
       "      <th>pay_credit_card</th>\n",
       "      <th>pay_debit_card</th>\n",
       "      <th>pay_voucher</th>\n",
       "      <th>payment_value</th>\n",
       "      <th>review_score</th>\n",
       "      <th>review_title</th>\n",
       "      <th>review_message</th>\n",
       "      <th>nb_days_survey_respond</th>\n",
       "      <th>zip_code_prefix</th>\n",
       "      <th>customer_city</th>\n",
       "      <th>customer_state</th>\n",
       "      <th>geolocation_lat</th>\n",
       "      <th>geolocation_lng</th>\n",
       "      <th>F</th>\n",
       "    </tr>\n",
       "  </thead>\n",
       "  <tbody>\n",
       "    <tr>\n",
       "      <th>32739</th>\n",
       "      <td>5a4b4cc7bcccb91c0eba9112d7c4c8bd</td>\n",
       "      <td>109.9</td>\n",
       "      <td>21.61</td>\n",
       "      <td>508</td>\n",
       "      <td>0.0</td>\n",
       "      <td>0.0</td>\n",
       "      <td>9.0</td>\n",
       "      <td>34.0</td>\n",
       "      <td>1.0</td>\n",
       "      <td>10.0</td>\n",
       "      <td>0</td>\n",
       "      <td>1</td>\n",
       "      <td>0</td>\n",
       "      <td>0</td>\n",
       "      <td>131.51</td>\n",
       "      <td>4.0</td>\n",
       "      <td>0</td>\n",
       "      <td>0</td>\n",
       "      <td>0.0</td>\n",
       "      <td>94818.0</td>\n",
       "      <td>alvorada</td>\n",
       "      <td>RS</td>\n",
       "      <td>-30.004246</td>\n",
       "      <td>-51.054943</td>\n",
       "      <td>1</td>\n",
       "    </tr>\n",
       "    <tr>\n",
       "      <th>55259</th>\n",
       "      <td>98eef1a36389d4148039ece41431831a</td>\n",
       "      <td>197.5</td>\n",
       "      <td>53.73</td>\n",
       "      <td>642</td>\n",
       "      <td>0.0</td>\n",
       "      <td>0.0</td>\n",
       "      <td>15.0</td>\n",
       "      <td>27.0</td>\n",
       "      <td>1.0</td>\n",
       "      <td>3.0</td>\n",
       "      <td>0</td>\n",
       "      <td>1</td>\n",
       "      <td>0</td>\n",
       "      <td>0</td>\n",
       "      <td>251.23</td>\n",
       "      <td>4.0</td>\n",
       "      <td>0</td>\n",
       "      <td>0</td>\n",
       "      <td>5.0</td>\n",
       "      <td>11668.0</td>\n",
       "      <td>caraguatatuba</td>\n",
       "      <td>SP</td>\n",
       "      <td>-23.709727</td>\n",
       "      <td>-45.441340</td>\n",
       "      <td>1</td>\n",
       "    </tr>\n",
       "    <tr>\n",
       "      <th>42873</th>\n",
       "      <td>76888ec0e2d5b7de57da85ce2babccac</td>\n",
       "      <td>189.9</td>\n",
       "      <td>20.57</td>\n",
       "      <td>340</td>\n",
       "      <td>0.0</td>\n",
       "      <td>7.0</td>\n",
       "      <td>11.0</td>\n",
       "      <td>24.0</td>\n",
       "      <td>1.0</td>\n",
       "      <td>4.0</td>\n",
       "      <td>0</td>\n",
       "      <td>1</td>\n",
       "      <td>0</td>\n",
       "      <td>0</td>\n",
       "      <td>210.47</td>\n",
       "      <td>5.0</td>\n",
       "      <td>0</td>\n",
       "      <td>0</td>\n",
       "      <td>0.0</td>\n",
       "      <td>8280.0</td>\n",
       "      <td>sao paulo</td>\n",
       "      <td>SP</td>\n",
       "      <td>-23.560481</td>\n",
       "      <td>-46.473546</td>\n",
       "      <td>1</td>\n",
       "    </tr>\n",
       "    <tr>\n",
       "      <th>8292</th>\n",
       "      <td>16af40ec18dcd9725a9dec6ee2efb851</td>\n",
       "      <td>116.6</td>\n",
       "      <td>28.18</td>\n",
       "      <td>299</td>\n",
       "      <td>0.0</td>\n",
       "      <td>9.0</td>\n",
       "      <td>16.0</td>\n",
       "      <td>29.0</td>\n",
       "      <td>1.0</td>\n",
       "      <td>5.0</td>\n",
       "      <td>0</td>\n",
       "      <td>1</td>\n",
       "      <td>0</td>\n",
       "      <td>0</td>\n",
       "      <td>144.78</td>\n",
       "      <td>5.0</td>\n",
       "      <td>0</td>\n",
       "      <td>0</td>\n",
       "      <td>34.0</td>\n",
       "      <td>72236.0</td>\n",
       "      <td>brasilia</td>\n",
       "      <td>DF</td>\n",
       "      <td>-15.849381</td>\n",
       "      <td>-48.119870</td>\n",
       "      <td>1</td>\n",
       "    </tr>\n",
       "    <tr>\n",
       "      <th>23515</th>\n",
       "      <td>40f94a38b9e0e57adccb0d0b2811e56f</td>\n",
       "      <td>129.9</td>\n",
       "      <td>27.23</td>\n",
       "      <td>534</td>\n",
       "      <td>0.0</td>\n",
       "      <td>3.0</td>\n",
       "      <td>10.0</td>\n",
       "      <td>19.0</td>\n",
       "      <td>1.0</td>\n",
       "      <td>10.0</td>\n",
       "      <td>0</td>\n",
       "      <td>1</td>\n",
       "      <td>0</td>\n",
       "      <td>0</td>\n",
       "      <td>157.13</td>\n",
       "      <td>5.0</td>\n",
       "      <td>0</td>\n",
       "      <td>0</td>\n",
       "      <td>3.0</td>\n",
       "      <td>33925.0</td>\n",
       "      <td>ribeirao das neves</td>\n",
       "      <td>MG</td>\n",
       "      <td>-19.777793</td>\n",
       "      <td>-43.991248</td>\n",
       "      <td>1</td>\n",
       "    </tr>\n",
       "  </tbody>\n",
       "</table>\n",
       "</div>\n",
       "      <button class=\"colab-df-convert\" onclick=\"convertToInteractive('df-679c3314-5417-4b25-a77e-27f0490fbb4f')\"\n",
       "              title=\"Convert this dataframe to an interactive table.\"\n",
       "              style=\"display:none;\">\n",
       "        \n",
       "  <svg xmlns=\"http://www.w3.org/2000/svg\" height=\"24px\"viewBox=\"0 0 24 24\"\n",
       "       width=\"24px\">\n",
       "    <path d=\"M0 0h24v24H0V0z\" fill=\"none\"/>\n",
       "    <path d=\"M18.56 5.44l.94 2.06.94-2.06 2.06-.94-2.06-.94-.94-2.06-.94 2.06-2.06.94zm-11 1L8.5 8.5l.94-2.06 2.06-.94-2.06-.94L8.5 2.5l-.94 2.06-2.06.94zm10 10l.94 2.06.94-2.06 2.06-.94-2.06-.94-.94-2.06-.94 2.06-2.06.94z\"/><path d=\"M17.41 7.96l-1.37-1.37c-.4-.4-.92-.59-1.43-.59-.52 0-1.04.2-1.43.59L10.3 9.45l-7.72 7.72c-.78.78-.78 2.05 0 2.83L4 21.41c.39.39.9.59 1.41.59.51 0 1.02-.2 1.41-.59l7.78-7.78 2.81-2.81c.8-.78.8-2.07 0-2.86zM5.41 20L4 18.59l7.72-7.72 1.47 1.35L5.41 20z\"/>\n",
       "  </svg>\n",
       "      </button>\n",
       "      \n",
       "  <style>\n",
       "    .colab-df-container {\n",
       "      display:flex;\n",
       "      flex-wrap:wrap;\n",
       "      gap: 12px;\n",
       "    }\n",
       "\n",
       "    .colab-df-convert {\n",
       "      background-color: #E8F0FE;\n",
       "      border: none;\n",
       "      border-radius: 50%;\n",
       "      cursor: pointer;\n",
       "      display: none;\n",
       "      fill: #1967D2;\n",
       "      height: 32px;\n",
       "      padding: 0 0 0 0;\n",
       "      width: 32px;\n",
       "    }\n",
       "\n",
       "    .colab-df-convert:hover {\n",
       "      background-color: #E2EBFA;\n",
       "      box-shadow: 0px 1px 2px rgba(60, 64, 67, 0.3), 0px 1px 3px 1px rgba(60, 64, 67, 0.15);\n",
       "      fill: #174EA6;\n",
       "    }\n",
       "\n",
       "    [theme=dark] .colab-df-convert {\n",
       "      background-color: #3B4455;\n",
       "      fill: #D2E3FC;\n",
       "    }\n",
       "\n",
       "    [theme=dark] .colab-df-convert:hover {\n",
       "      background-color: #434B5C;\n",
       "      box-shadow: 0px 1px 3px 1px rgba(0, 0, 0, 0.15);\n",
       "      filter: drop-shadow(0px 1px 2px rgba(0, 0, 0, 0.3));\n",
       "      fill: #FFFFFF;\n",
       "    }\n",
       "  </style>\n",
       "\n",
       "      <script>\n",
       "        const buttonEl =\n",
       "          document.querySelector('#df-679c3314-5417-4b25-a77e-27f0490fbb4f button.colab-df-convert');\n",
       "        buttonEl.style.display =\n",
       "          google.colab.kernel.accessAllowed ? 'block' : 'none';\n",
       "\n",
       "        async function convertToInteractive(key) {\n",
       "          const element = document.querySelector('#df-679c3314-5417-4b25-a77e-27f0490fbb4f');\n",
       "          const dataTable =\n",
       "            await google.colab.kernel.invokeFunction('convertToInteractive',\n",
       "                                                     [key], {});\n",
       "          if (!dataTable) return;\n",
       "\n",
       "          const docLinkHtml = 'Like what you see? Visit the ' +\n",
       "            '<a target=\"_blank\" href=https://colab.research.google.com/notebooks/data_table.ipynb>data table notebook</a>'\n",
       "            + ' to learn more about interactive tables.';\n",
       "          element.innerHTML = '';\n",
       "          dataTable['output_type'] = 'display_data';\n",
       "          await google.colab.output.renderOutput(dataTable, element);\n",
       "          const docLink = document.createElement('div');\n",
       "          docLink.innerHTML = docLinkHtml;\n",
       "          element.appendChild(docLink);\n",
       "        }\n",
       "      </script>\n",
       "    </div>\n",
       "  </div>\n",
       "  "
      ],
      "text/plain": [
       "                     customer_unique_id      M  freight_value    R  \\\n",
       "32739  5a4b4cc7bcccb91c0eba9112d7c4c8bd  109.9          21.61  508   \n",
       "55259  98eef1a36389d4148039ece41431831a  197.5          53.73  642   \n",
       "42873  76888ec0e2d5b7de57da85ce2babccac  189.9          20.57  340   \n",
       "8292   16af40ec18dcd9725a9dec6ee2efb851  116.6          28.18  299   \n",
       "23515  40f94a38b9e0e57adccb0d0b2811e56f  129.9          27.23  534   \n",
       "\n",
       "       nb_days_order_approved  nb_days_delivered_carrier  \\\n",
       "32739                     0.0                        0.0   \n",
       "55259                     0.0                        0.0   \n",
       "42873                     0.0                        7.0   \n",
       "8292                      0.0                        9.0   \n",
       "23515                     0.0                        3.0   \n",
       "\n",
       "       nb_days_delivered_customer  nb_days_estimate_delivery  \\\n",
       "32739                         9.0                       34.0   \n",
       "55259                        15.0                       27.0   \n",
       "42873                        11.0                       24.0   \n",
       "8292                         16.0                       29.0   \n",
       "23515                        10.0                       19.0   \n",
       "\n",
       "       payment_sequential  payment_installments  pay_boleto  pay_credit_card  \\\n",
       "32739                 1.0                  10.0           0                1   \n",
       "55259                 1.0                   3.0           0                1   \n",
       "42873                 1.0                   4.0           0                1   \n",
       "8292                  1.0                   5.0           0                1   \n",
       "23515                 1.0                  10.0           0                1   \n",
       "\n",
       "       pay_debit_card  pay_voucher  payment_value  review_score  review_title  \\\n",
       "32739               0            0         131.51           4.0             0   \n",
       "55259               0            0         251.23           4.0             0   \n",
       "42873               0            0         210.47           5.0             0   \n",
       "8292                0            0         144.78           5.0             0   \n",
       "23515               0            0         157.13           5.0             0   \n",
       "\n",
       "       review_message  nb_days_survey_respond  zip_code_prefix  \\\n",
       "32739               0                     0.0          94818.0   \n",
       "55259               0                     5.0          11668.0   \n",
       "42873               0                     0.0           8280.0   \n",
       "8292                0                    34.0          72236.0   \n",
       "23515               0                     3.0          33925.0   \n",
       "\n",
       "            customer_city customer_state  geolocation_lat  geolocation_lng  F  \n",
       "32739            alvorada             RS       -30.004246       -51.054943  1  \n",
       "55259       caraguatatuba             SP       -23.709727       -45.441340  1  \n",
       "42873           sao paulo             SP       -23.560481       -46.473546  1  \n",
       "8292             brasilia             DF       -15.849381       -48.119870  1  \n",
       "23515  ribeirao das neves             MG       -19.777793       -43.991248  1  "
      ]
     },
     "execution_count": 7,
     "metadata": {},
     "output_type": "execute_result"
    }
   ],
   "source": [
    "# get data\n",
    "data_path = root_dir + '/data/' + dataset_name + '.csv'\n",
    "df = pd.read_csv(data_path)\n",
    "\n",
    "test_mode_samples = 50000\n",
    "if test_mode:\n",
    "    df = df.sample(test_mode_samples)\n",
    "    \n",
    "print(df.shape)\n",
    "df.head()"
   ]
  },
  {
   "cell_type": "code",
   "execution_count": null,
   "id": "0882a1ed",
   "metadata": {
    "colab": {
     "base_uri": "https://localhost:8080/",
     "height": 288
    },
    "executionInfo": {
     "elapsed": 23,
     "status": "ok",
     "timestamp": 1656709486511,
     "user": {
      "displayName": "Vincent",
      "userId": "00953070889543731066"
     },
     "user_tz": -120
    },
    "id": "0882a1ed",
    "outputId": "00581776-4483-4905-fb48-72598ee90721"
   },
   "outputs": [
    {
     "name": "stdout",
     "output_type": "stream",
     "text": [
      "(50000, 14)\n"
     ]
    },
    {
     "data": {
      "text/html": [
       "\n",
       "  <div id=\"df-8688ab19-1ae6-4b51-ae46-1ac57b3f4a9d\">\n",
       "    <div class=\"colab-df-container\">\n",
       "      <div>\n",
       "<style scoped>\n",
       "    .dataframe tbody tr th:only-of-type {\n",
       "        vertical-align: middle;\n",
       "    }\n",
       "\n",
       "    .dataframe tbody tr th {\n",
       "        vertical-align: top;\n",
       "    }\n",
       "\n",
       "    .dataframe thead th {\n",
       "        text-align: right;\n",
       "    }\n",
       "</style>\n",
       "<table border=\"1\" class=\"dataframe\">\n",
       "  <thead>\n",
       "    <tr style=\"text-align: right;\">\n",
       "      <th></th>\n",
       "      <th>R</th>\n",
       "      <th>F</th>\n",
       "      <th>M</th>\n",
       "      <th>review_title</th>\n",
       "      <th>review_message</th>\n",
       "      <th>payment_installments</th>\n",
       "      <th>payment_sequential</th>\n",
       "      <th>nb_days_survey_respond</th>\n",
       "      <th>pay_boleto</th>\n",
       "      <th>pay_credit_card</th>\n",
       "      <th>pay_debit_card</th>\n",
       "      <th>pay_voucher</th>\n",
       "      <th>freight_value</th>\n",
       "      <th>payment_value</th>\n",
       "    </tr>\n",
       "  </thead>\n",
       "  <tbody>\n",
       "    <tr>\n",
       "      <th>32739</th>\n",
       "      <td>508</td>\n",
       "      <td>1</td>\n",
       "      <td>109.9</td>\n",
       "      <td>0</td>\n",
       "      <td>0</td>\n",
       "      <td>10.0</td>\n",
       "      <td>1.0</td>\n",
       "      <td>0.0</td>\n",
       "      <td>0</td>\n",
       "      <td>1</td>\n",
       "      <td>0</td>\n",
       "      <td>0</td>\n",
       "      <td>21.61</td>\n",
       "      <td>131.51</td>\n",
       "    </tr>\n",
       "    <tr>\n",
       "      <th>55259</th>\n",
       "      <td>642</td>\n",
       "      <td>1</td>\n",
       "      <td>197.5</td>\n",
       "      <td>0</td>\n",
       "      <td>0</td>\n",
       "      <td>3.0</td>\n",
       "      <td>1.0</td>\n",
       "      <td>5.0</td>\n",
       "      <td>0</td>\n",
       "      <td>1</td>\n",
       "      <td>0</td>\n",
       "      <td>0</td>\n",
       "      <td>53.73</td>\n",
       "      <td>251.23</td>\n",
       "    </tr>\n",
       "    <tr>\n",
       "      <th>42873</th>\n",
       "      <td>340</td>\n",
       "      <td>1</td>\n",
       "      <td>189.9</td>\n",
       "      <td>0</td>\n",
       "      <td>0</td>\n",
       "      <td>4.0</td>\n",
       "      <td>1.0</td>\n",
       "      <td>0.0</td>\n",
       "      <td>0</td>\n",
       "      <td>1</td>\n",
       "      <td>0</td>\n",
       "      <td>0</td>\n",
       "      <td>20.57</td>\n",
       "      <td>210.47</td>\n",
       "    </tr>\n",
       "    <tr>\n",
       "      <th>8292</th>\n",
       "      <td>299</td>\n",
       "      <td>1</td>\n",
       "      <td>116.6</td>\n",
       "      <td>0</td>\n",
       "      <td>0</td>\n",
       "      <td>5.0</td>\n",
       "      <td>1.0</td>\n",
       "      <td>34.0</td>\n",
       "      <td>0</td>\n",
       "      <td>1</td>\n",
       "      <td>0</td>\n",
       "      <td>0</td>\n",
       "      <td>28.18</td>\n",
       "      <td>144.78</td>\n",
       "    </tr>\n",
       "    <tr>\n",
       "      <th>23515</th>\n",
       "      <td>534</td>\n",
       "      <td>1</td>\n",
       "      <td>129.9</td>\n",
       "      <td>0</td>\n",
       "      <td>0</td>\n",
       "      <td>10.0</td>\n",
       "      <td>1.0</td>\n",
       "      <td>3.0</td>\n",
       "      <td>0</td>\n",
       "      <td>1</td>\n",
       "      <td>0</td>\n",
       "      <td>0</td>\n",
       "      <td>27.23</td>\n",
       "      <td>157.13</td>\n",
       "    </tr>\n",
       "  </tbody>\n",
       "</table>\n",
       "</div>\n",
       "      <button class=\"colab-df-convert\" onclick=\"convertToInteractive('df-8688ab19-1ae6-4b51-ae46-1ac57b3f4a9d')\"\n",
       "              title=\"Convert this dataframe to an interactive table.\"\n",
       "              style=\"display:none;\">\n",
       "        \n",
       "  <svg xmlns=\"http://www.w3.org/2000/svg\" height=\"24px\"viewBox=\"0 0 24 24\"\n",
       "       width=\"24px\">\n",
       "    <path d=\"M0 0h24v24H0V0z\" fill=\"none\"/>\n",
       "    <path d=\"M18.56 5.44l.94 2.06.94-2.06 2.06-.94-2.06-.94-.94-2.06-.94 2.06-2.06.94zm-11 1L8.5 8.5l.94-2.06 2.06-.94-2.06-.94L8.5 2.5l-.94 2.06-2.06.94zm10 10l.94 2.06.94-2.06 2.06-.94-2.06-.94-.94-2.06-.94 2.06-2.06.94z\"/><path d=\"M17.41 7.96l-1.37-1.37c-.4-.4-.92-.59-1.43-.59-.52 0-1.04.2-1.43.59L10.3 9.45l-7.72 7.72c-.78.78-.78 2.05 0 2.83L4 21.41c.39.39.9.59 1.41.59.51 0 1.02-.2 1.41-.59l7.78-7.78 2.81-2.81c.8-.78.8-2.07 0-2.86zM5.41 20L4 18.59l7.72-7.72 1.47 1.35L5.41 20z\"/>\n",
       "  </svg>\n",
       "      </button>\n",
       "      \n",
       "  <style>\n",
       "    .colab-df-container {\n",
       "      display:flex;\n",
       "      flex-wrap:wrap;\n",
       "      gap: 12px;\n",
       "    }\n",
       "\n",
       "    .colab-df-convert {\n",
       "      background-color: #E8F0FE;\n",
       "      border: none;\n",
       "      border-radius: 50%;\n",
       "      cursor: pointer;\n",
       "      display: none;\n",
       "      fill: #1967D2;\n",
       "      height: 32px;\n",
       "      padding: 0 0 0 0;\n",
       "      width: 32px;\n",
       "    }\n",
       "\n",
       "    .colab-df-convert:hover {\n",
       "      background-color: #E2EBFA;\n",
       "      box-shadow: 0px 1px 2px rgba(60, 64, 67, 0.3), 0px 1px 3px 1px rgba(60, 64, 67, 0.15);\n",
       "      fill: #174EA6;\n",
       "    }\n",
       "\n",
       "    [theme=dark] .colab-df-convert {\n",
       "      background-color: #3B4455;\n",
       "      fill: #D2E3FC;\n",
       "    }\n",
       "\n",
       "    [theme=dark] .colab-df-convert:hover {\n",
       "      background-color: #434B5C;\n",
       "      box-shadow: 0px 1px 3px 1px rgba(0, 0, 0, 0.15);\n",
       "      filter: drop-shadow(0px 1px 2px rgba(0, 0, 0, 0.3));\n",
       "      fill: #FFFFFF;\n",
       "    }\n",
       "  </style>\n",
       "\n",
       "      <script>\n",
       "        const buttonEl =\n",
       "          document.querySelector('#df-8688ab19-1ae6-4b51-ae46-1ac57b3f4a9d button.colab-df-convert');\n",
       "        buttonEl.style.display =\n",
       "          google.colab.kernel.accessAllowed ? 'block' : 'none';\n",
       "\n",
       "        async function convertToInteractive(key) {\n",
       "          const element = document.querySelector('#df-8688ab19-1ae6-4b51-ae46-1ac57b3f4a9d');\n",
       "          const dataTable =\n",
       "            await google.colab.kernel.invokeFunction('convertToInteractive',\n",
       "                                                     [key], {});\n",
       "          if (!dataTable) return;\n",
       "\n",
       "          const docLinkHtml = 'Like what you see? Visit the ' +\n",
       "            '<a target=\"_blank\" href=https://colab.research.google.com/notebooks/data_table.ipynb>data table notebook</a>'\n",
       "            + ' to learn more about interactive tables.';\n",
       "          element.innerHTML = '';\n",
       "          dataTable['output_type'] = 'display_data';\n",
       "          await google.colab.output.renderOutput(dataTable, element);\n",
       "          const docLink = document.createElement('div');\n",
       "          docLink.innerHTML = docLinkHtml;\n",
       "          element.appendChild(docLink);\n",
       "        }\n",
       "      </script>\n",
       "    </div>\n",
       "  </div>\n",
       "  "
      ],
      "text/plain": [
       "         R  F      M  review_title  review_message  payment_installments  \\\n",
       "32739  508  1  109.9             0               0                  10.0   \n",
       "55259  642  1  197.5             0               0                   3.0   \n",
       "42873  340  1  189.9             0               0                   4.0   \n",
       "8292   299  1  116.6             0               0                   5.0   \n",
       "23515  534  1  129.9             0               0                  10.0   \n",
       "\n",
       "       payment_sequential  nb_days_survey_respond  pay_boleto  \\\n",
       "32739                 1.0                     0.0           0   \n",
       "55259                 1.0                     5.0           0   \n",
       "42873                 1.0                     0.0           0   \n",
       "8292                  1.0                    34.0           0   \n",
       "23515                 1.0                     3.0           0   \n",
       "\n",
       "       pay_credit_card  pay_debit_card  pay_voucher  freight_value  \\\n",
       "32739                1               0            0          21.61   \n",
       "55259                1               0            0          53.73   \n",
       "42873                1               0            0          20.57   \n",
       "8292                 1               0            0          28.18   \n",
       "23515                1               0            0          27.23   \n",
       "\n",
       "       payment_value  \n",
       "32739         131.51  \n",
       "55259         251.23  \n",
       "42873         210.47  \n",
       "8292          144.78  \n",
       "23515         157.13  "
      ]
     },
     "execution_count": 8,
     "metadata": {},
     "output_type": "execute_result"
    }
   ],
   "source": [
    "# make subset of the final dataframe for clustering with a model\n",
    "\n",
    "to_keep = ['R', \n",
    "           'F', \n",
    "           'M', \n",
    "           'review_title', \n",
    "           'review_message', \n",
    "           'payment_installments', \n",
    "           'payment_sequential', \n",
    "           'nb_days_survey_respond', \n",
    "           'pay_boleto', \n",
    "           'pay_credit_card', \n",
    "           'pay_debit_card', \n",
    "           'pay_voucher', \n",
    "           'freight_value', \n",
    "           'payment_value'\n",
    "          ]\n",
    "\n",
    "data = df[to_keep]\n",
    "#data = df.drop(to_drop, axis=1)\n",
    "\n",
    "print(data.shape)\n",
    "data.head()"
   ]
  },
  {
   "cell_type": "code",
   "execution_count": null,
   "id": "31a9b378",
   "metadata": {
    "id": "31a9b378"
   },
   "outputs": [],
   "source": [
    "# data to numpy & normalize\n",
    "\n",
    "X = data.to_numpy()\n",
    "\n",
    "from sklearn.preprocessing import StandardScaler\n",
    "scaler = StandardScaler()\n",
    "X = scaler.fit_transform(X)"
   ]
  },
  {
   "cell_type": "code",
   "execution_count": null,
   "id": "2d6c67c6",
   "metadata": {},
   "outputs": [],
   "source": [
    "k_opti = 4\n",
    "\n",
    "from sklearn.cluster import AgglomerativeClustering\n",
    "model = AgglomerativeClustering(n_clusters=k_opti, \n",
    "                                linkage='ward')\n",
    "'''\n",
    "from sklearn.cluster import AgglomerativeClustering\n",
    "model = AgglomerativeClustering(n_clusters=None, \n",
    "                                distance_threshold=10, \n",
    "                                linkage='single')\n",
    "'''"
   ]
  },
  {
   "cell_type": "code",
   "execution_count": null,
   "id": "6c9b38cc",
   "metadata": {},
   "outputs": [],
   "source": [
    "model.fit(X)"
   ]
  },
  {
   "cell_type": "code",
   "execution_count": null,
   "id": "d40e4c68",
   "metadata": {
    "id": "d40e4c68"
   },
   "outputs": [],
   "source": [
    "pred = model.labels_"
   ]
  },
  {
   "cell_type": "code",
   "execution_count": null,
   "id": "8856bec7",
   "metadata": {
    "colab": {
     "base_uri": "https://localhost:8080/"
    },
    "executionInfo": {
     "elapsed": 27832,
     "status": "ok",
     "timestamp": 1656709761221,
     "user": {
      "displayName": "Vincent",
      "userId": "00953070889543731066"
     },
     "user_tz": -120
    },
    "id": "8856bec7",
    "outputId": "deee336c-0370-4d36-f261-99263ea680f3"
   },
   "outputs": [
    {
     "name": "stdout",
     "output_type": "stream",
     "text": [
      "Estimated number of clusters: 4\n",
      "Silhouette Coefficient: 0.347\n"
     ]
    }
   ],
   "source": [
    "from sklearn import metrics\n",
    "\n",
    "n_clusters_ = len(set(pred)) - (1 if -1 in pred else 0)\n",
    "n_noise_ = list(pred).count(-1)\n",
    "\n",
    "print(\"Estimated number of clusters: %d\" % n_clusters_)\n",
    "print(\"Silhouette Coefficient: %0.3f\" % metrics.silhouette_score(X, pred))"
   ]
  },
  {
   "cell_type": "code",
   "execution_count": null,
   "id": "66e98bc2",
   "metadata": {
    "colab": {
     "base_uri": "https://localhost:8080/"
    },
    "executionInfo": {
     "elapsed": 19,
     "status": "ok",
     "timestamp": 1656709761225,
     "user": {
      "displayName": "Vincent",
      "userId": "00953070889543731066"
     },
     "user_tz": -120
    },
    "id": "66e98bc2",
    "outputId": "997f8268-4a68-4881-dcde-40f5395f673c"
   },
   "outputs": [
    {
     "name": "stdout",
     "output_type": "stream",
     "text": [
      "(50000, 22)\n"
     ]
    }
   ],
   "source": [
    "# select columns to graph\n",
    "types = ['int64', 'float64']\n",
    "\n",
    "to_graph = []\n",
    "for column in df:\n",
    "    if df[column].dtypes in types:\n",
    "        to_graph.append(column)\n",
    "\n",
    "df_graph = df[to_graph]\n",
    "df_graph = df_graph.drop('zip_code_prefix', axis=1)\n",
    "df_graph['pred'] = pred\n",
    "print(df_graph.shape)"
   ]
  },
  {
   "cell_type": "code",
   "execution_count": null,
   "id": "04d67d5f",
   "metadata": {
    "colab": {
     "base_uri": "https://localhost:8080/"
    },
    "executionInfo": {
     "elapsed": 18,
     "status": "ok",
     "timestamp": 1656709761226,
     "user": {
      "displayName": "Vincent",
      "userId": "00953070889543731066"
     },
     "user_tz": -120
    },
    "id": "04d67d5f",
    "outputId": "6b25880a-74cd-4b50-b841-ce2f6a2784a1"
   },
   "outputs": [
    {
     "name": "stdout",
     "output_type": "stream",
     "text": [
      "2    32210\n",
      "0     9317\n",
      "3     5364\n",
      "1     3109\n",
      "Name: pred, dtype: int64\n"
     ]
    }
   ],
   "source": [
    "# population of each cluster\n",
    "print(df_graph['pred'].value_counts())"
   ]
  },
  {
   "cell_type": "code",
   "execution_count": null,
   "id": "13299ac6",
   "metadata": {
    "colab": {
     "base_uri": "https://localhost:8080/",
     "height": 1000
    },
    "executionInfo": {
     "elapsed": 4911,
     "status": "ok",
     "timestamp": 1656709766125,
     "user": {
      "displayName": "Vincent",
      "userId": "00953070889543731066"
     },
     "user_tz": -120
    },
    "id": "13299ac6",
    "outputId": "b0d3fd3d-4bc6-49c3-842c-6a0c747a07e7"
   },
   "outputs": [
    {
     "name": "stdout",
     "output_type": "stream",
     "text": [
      "M :\n"
     ]
    },
    {
     "data": {
      "image/png": "[encoded data removed]",
      "text/plain": [
       "<Figure size 864x576 with 1 Axes>"
      ]
     },
     "metadata": {
      "needs_background": "light"
     },
     "output_type": "display_data"
    },
    {
     "name": "stdout",
     "output_type": "stream",
     "text": [
      "\n",
      "\n",
      "\n",
      "\n",
      "freight_value :\n"
     ]
    },
    {
     "data": {
      "image/png": "[encoded data removed]",
      "text/plain": [
       "<Figure size 864x576 with 1 Axes>"
      ]
     },
     "metadata": {
      "needs_background": "light"
     },
     "output_type": "display_data"
    },
    {
     "name": "stdout",
     "output_type": "stream",
     "text": [
      "\n",
      "\n",
      "\n",
      "\n",
      "R :\n"
     ]
    },
    {
     "data": {
      "image/png": "[encoded data removed]",
      "text/plain": [
       "<Figure size 864x576 with 1 Axes>"
      ]
     },
     "metadata": {
      "needs_background": "light"
     },
     "output_type": "display_data"
    },
    {
     "name": "stdout",
     "output_type": "stream",
     "text": [
      "\n",
      "\n",
      "\n",
      "\n",
      "nb_days_order_approved :\n"
     ]
    },
    {
     "data": {
      "image/png": "[encoded data removed]",
      "text/plain": [
       "<Figure size 864x576 with 1 Axes>"
      ]
     },
     "metadata": {
      "needs_background": "light"
     },
     "output_type": "display_data"
    },
    {
     "name": "stdout",
     "output_type": "stream",
     "text": [
      "\n",
      "\n",
      "\n",
      "\n",
      "nb_days_delivered_carrier :\n"
     ]
    },
    {
     "data": {
      "image/png": "[encoded data removed]",
      "text/plain": [
       "<Figure size 864x576 with 1 Axes>"
      ]
     },
     "metadata": {
      "needs_background": "light"
     },
     "output_type": "display_data"
    },
    {
     "name": "stdout",
     "output_type": "stream",
     "text": [
      "\n",
      "\n",
      "\n",
      "\n",
      "nb_days_delivered_customer :\n"
     ]
    },
    {
     "data": {
      "image/png": "[encoded data removed]",
      "text/plain": [
       "<Figure size 864x576 with 1 Axes>"
      ]
     },
     "metadata": {
      "needs_background": "light"
     },
     "output_type": "display_data"
    },
    {
     "name": "stdout",
     "output_type": "stream",
     "text": [
      "\n",
      "\n",
      "\n",
      "\n",
      "nb_days_estimate_delivery :\n"
     ]
    },
    {
     "data": {
      "image/png": "[encoded data removed]",
      "text/plain": [
       "<Figure size 864x576 with 1 Axes>"
      ]
     },
     "metadata": {
      "needs_background": "light"
     },
     "output_type": "display_data"
    },
    {
     "name": "stdout",
     "output_type": "stream",
     "text": [
      "\n",
      "\n",
      "\n",
      "\n",
      "payment_sequential :\n"
     ]
    },
    {
     "data": {
      "image/png": "[encoded data removed]",
      "text/plain": [
       "<Figure size 864x576 with 1 Axes>"
      ]
     },
     "metadata": {
      "needs_background": "light"
     },
     "output_type": "display_data"
    },
    {
     "name": "stdout",
     "output_type": "stream",
     "text": [
      "\n",
      "\n",
      "\n",
      "\n",
      "payment_installments :\n"
     ]
    },
    {
     "data": {
      "image/png": "[encoded data removed]",
      "text/plain": [
       "<Figure size 864x576 with 1 Axes>"
      ]
     },
     "metadata": {
      "needs_background": "light"
     },
     "output_type": "display_data"
    },
    {
     "name": "stdout",
     "output_type": "stream",
     "text": [
      "\n",
      "\n",
      "\n",
      "\n",
      "pay_boleto :\n"
     ]
    },
    {
     "data": {
      "image/png": "[encoded data removed]",
      "text/plain": [
       "<Figure size 864x576 with 1 Axes>"
      ]
     },
     "metadata": {
      "needs_background": "light"
     },
     "output_type": "display_data"
    },
    {
     "name": "stdout",
     "output_type": "stream",
     "text": [
      "\n",
      "\n",
      "\n",
      "\n",
      "pay_credit_card :\n"
     ]
    },
    {
     "data": {
      "image/png": "[encoded data removed]",
      "text/plain": [
       "<Figure size 864x576 with 1 Axes>"
      ]
     },
     "metadata": {
      "needs_background": "light"
     },
     "output_type": "display_data"
    },
    {
     "name": "stdout",
     "output_type": "stream",
     "text": [
      "\n",
      "\n",
      "\n",
      "\n",
      "pay_debit_card :\n"
     ]
    },
    {
     "data": {
      "image/png": "[encoded data removed]",
      "text/plain": [
       "<Figure size 864x576 with 1 Axes>"
      ]
     },
     "metadata": {
      "needs_background": "light"
     },
     "output_type": "display_data"
    },
    {
     "name": "stdout",
     "output_type": "stream",
     "text": [
      "\n",
      "\n",
      "\n",
      "\n",
      "pay_voucher :\n"
     ]
    },
    {
     "data": {
      "image/png": "[encoded data removed]",
      "text/plain": [
       "<Figure size 864x576 with 1 Axes>"
      ]
     },
     "metadata": {
      "needs_background": "light"
     },
     "output_type": "display_data"
    },
    {
     "name": "stdout",
     "output_type": "stream",
     "text": [
      "\n",
      "\n",
      "\n",
      "\n",
      "payment_value :\n"
     ]
    },
    {
     "data": {
      "image/png": "[encoded data removed]",
      "text/plain": [
       "<Figure size 864x576 with 1 Axes>"
      ]
     },
     "metadata": {
      "needs_background": "light"
     },
     "output_type": "display_data"
    },
    {
     "name": "stdout",
     "output_type": "stream",
     "text": [
      "\n",
      "\n",
      "\n",
      "\n",
      "review_score :\n"
     ]
    },
    {
     "data": {
      "image/png": "[encoded data removed]",
      "text/plain": [
       "<Figure size 864x576 with 1 Axes>"
      ]
     },
     "metadata": {
      "needs_background": "light"
     },
     "output_type": "display_data"
    },
    {
     "name": "stdout",
     "output_type": "stream",
     "text": [
      "\n",
      "\n",
      "\n",
      "\n",
      "review_title :\n"
     ]
    },
    {
     "data": {
      "image/png": "[encoded data removed]",
      "text/plain": [
       "<Figure size 864x576 with 1 Axes>"
      ]
     },
     "metadata": {
      "needs_background": "light"
     },
     "output_type": "display_data"
    },
    {
     "name": "stdout",
     "output_type": "stream",
     "text": [
      "\n",
      "\n",
      "\n",
      "\n",
      "review_message :\n"
     ]
    },
    {
     "data": {
      "image/png": "[encoded data removed]",
      "text/plain": [
       "<Figure size 864x576 with 1 Axes>"
      ]
     },
     "metadata": {
      "needs_background": "light"
     },
     "output_type": "display_data"
    },
    {
     "name": "stdout",
     "output_type": "stream",
     "text": [
      "\n",
      "\n",
      "\n",
      "\n",
      "nb_days_survey_respond :\n"
     ]
    },
    {
     "data": {
      "image/png": "[encoded data removed]",
      "text/plain": [
       "<Figure size 864x576 with 1 Axes>"
      ]
     },
     "metadata": {
      "needs_background": "light"
     },
     "output_type": "display_data"
    },
    {
     "name": "stdout",
     "output_type": "stream",
     "text": [
      "\n",
      "\n",
      "\n",
      "\n",
      "geolocation_lat :\n"
     ]
    },
    {
     "data": {
      "image/png": "[encoded data removed]",
      "text/plain": [
       "<Figure size 864x576 with 1 Axes>"
      ]
     },
     "metadata": {
      "needs_background": "light"
     },
     "output_type": "display_data"
    },
    {
     "name": "stdout",
     "output_type": "stream",
     "text": [
      "\n",
      "\n",
      "\n",
      "\n",
      "geolocation_lng :\n"
     ]
    },
    {
     "data": {
      "image/png": "[encoded data removed]",
      "text/plain": [
       "<Figure size 864x576 with 1 Axes>"
      ]
     },
     "metadata": {
      "needs_background": "light"
     },
     "output_type": "display_data"
    },
    {
     "name": "stdout",
     "output_type": "stream",
     "text": [
      "\n",
      "\n",
      "\n",
      "\n",
      "F :\n"
     ]
    },
    {
     "data": {
      "image/png": "[encoded data removed]",
      "text/plain": [
       "<Figure size 864x576 with 1 Axes>"
      ]
     },
     "metadata": {
      "needs_background": "light"
     },
     "output_type": "display_data"
    },
    {
     "name": "stdout",
     "output_type": "stream",
     "text": [
      "\n",
      "\n",
      "\n",
      "\n",
      "pred :\n"
     ]
    },
    {
     "data": {
      "image/png": "[encoded data removed]",
      "text/plain": [
       "<Figure size 864x576 with 1 Axes>"
      ]
     },
     "metadata": {
      "needs_background": "light"
     },
     "output_type": "display_data"
    },
    {
     "name": "stdout",
     "output_type": "stream",
     "text": [
      "\n",
      "\n",
      "\n",
      "\n"
     ]
    }
   ],
   "source": [
    "for column in df_graph:\n",
    "    print(column, ':')\n",
    "    plt.figure()\n",
    "    sns.boxplot(x='pred', y=column, data=df_graph, showmeans=True)\n",
    "    plt.show()\n",
    "    print('\\n'*3)"
   ]
  },
  {
   "cell_type": "code",
   "execution_count": null,
   "id": "c865a2eb",
   "metadata": {
    "colab": {
     "base_uri": "https://localhost:8080/",
     "height": 239
    },
    "executionInfo": {
     "elapsed": 27,
     "status": "ok",
     "timestamp": 1656709766127,
     "user": {
      "displayName": "Vincent",
      "userId": "00953070889543731066"
     },
     "user_tz": -120
    },
    "id": "c865a2eb",
    "outputId": "a2b65d30-d81c-4691-9df7-1fbea96e3909"
   },
   "outputs": [
    {
     "data": {
      "text/html": [
       "\n",
       "  <div id=\"df-194d4064-b8f5-4229-b448-fd753201ddca\">\n",
       "    <div class=\"colab-df-container\">\n",
       "      <div>\n",
       "<style scoped>\n",
       "    .dataframe tbody tr th:only-of-type {\n",
       "        vertical-align: middle;\n",
       "    }\n",
       "\n",
       "    .dataframe tbody tr th {\n",
       "        vertical-align: top;\n",
       "    }\n",
       "\n",
       "    .dataframe thead th {\n",
       "        text-align: right;\n",
       "    }\n",
       "</style>\n",
       "<table border=\"1\" class=\"dataframe\">\n",
       "  <thead>\n",
       "    <tr style=\"text-align: right;\">\n",
       "      <th></th>\n",
       "      <th>pred</th>\n",
       "      <th>M</th>\n",
       "      <th>freight_value</th>\n",
       "      <th>R</th>\n",
       "      <th>nb_days_order_approved</th>\n",
       "      <th>nb_days_delivered_carrier</th>\n",
       "      <th>nb_days_delivered_customer</th>\n",
       "      <th>nb_days_estimate_delivery</th>\n",
       "      <th>payment_sequential</th>\n",
       "      <th>payment_installments</th>\n",
       "      <th>pay_boleto</th>\n",
       "      <th>pay_credit_card</th>\n",
       "      <th>pay_debit_card</th>\n",
       "      <th>pay_voucher</th>\n",
       "      <th>payment_value</th>\n",
       "      <th>review_score</th>\n",
       "      <th>review_title</th>\n",
       "      <th>review_message</th>\n",
       "      <th>nb_days_survey_respond</th>\n",
       "      <th>geolocation_lat</th>\n",
       "      <th>geolocation_lng</th>\n",
       "      <th>F</th>\n",
       "    </tr>\n",
       "  </thead>\n",
       "  <tbody>\n",
       "    <tr>\n",
       "      <th>0</th>\n",
       "      <td>0</td>\n",
       "      <td>109.288617</td>\n",
       "      <td>23.593169</td>\n",
       "      <td>453.143716</td>\n",
       "      <td>0.842385</td>\n",
       "      <td>3.561071</td>\n",
       "      <td>12.970645</td>\n",
       "      <td>23.493292</td>\n",
       "      <td>1.003649</td>\n",
       "      <td>1.002415</td>\n",
       "      <td>0.911989</td>\n",
       "      <td>0.001717</td>\n",
       "      <td>0.090372</td>\n",
       "      <td>0.000107</td>\n",
       "      <td>130.434106</td>\n",
       "      <td>4.185217</td>\n",
       "      <td>0.020715</td>\n",
       "      <td>0.357733</td>\n",
       "      <td>2.005313</td>\n",
       "      <td>-21.463298</td>\n",
       "      <td>-46.552066</td>\n",
       "      <td>1.004079</td>\n",
       "    </tr>\n",
       "    <tr>\n",
       "      <th>1</th>\n",
       "      <td>1</td>\n",
       "      <td>586.323792</td>\n",
       "      <td>96.162136</td>\n",
       "      <td>474.895143</td>\n",
       "      <td>0.276938</td>\n",
       "      <td>3.435992</td>\n",
       "      <td>12.977967</td>\n",
       "      <td>24.994693</td>\n",
       "      <td>2.018173</td>\n",
       "      <td>5.220650</td>\n",
       "      <td>0.235767</td>\n",
       "      <td>1.256353</td>\n",
       "      <td>0.000322</td>\n",
       "      <td>0.241235</td>\n",
       "      <td>646.869768</td>\n",
       "      <td>4.052423</td>\n",
       "      <td>0.131554</td>\n",
       "      <td>0.491798</td>\n",
       "      <td>2.127050</td>\n",
       "      <td>-20.504008</td>\n",
       "      <td>-46.012641</td>\n",
       "      <td>1.518173</td>\n",
       "    </tr>\n",
       "    <tr>\n",
       "      <th>2</th>\n",
       "      <td>2</td>\n",
       "      <td>110.125697</td>\n",
       "      <td>22.997864</td>\n",
       "      <td>454.114343</td>\n",
       "      <td>0.101785</td>\n",
       "      <td>2.479960</td>\n",
       "      <td>11.977305</td>\n",
       "      <td>23.382645</td>\n",
       "      <td>1.098230</td>\n",
       "      <td>3.324201</td>\n",
       "      <td>0.002453</td>\n",
       "      <td>0.981745</td>\n",
       "      <td>0.000000</td>\n",
       "      <td>0.059733</td>\n",
       "      <td>130.893643</td>\n",
       "      <td>4.171117</td>\n",
       "      <td>0.001397</td>\n",
       "      <td>0.339894</td>\n",
       "      <td>2.831248</td>\n",
       "      <td>-21.256085</td>\n",
       "      <td>-46.155612</td>\n",
       "      <td>1.000217</td>\n",
       "    </tr>\n",
       "    <tr>\n",
       "      <th>3</th>\n",
       "      <td>3</td>\n",
       "      <td>122.897025</td>\n",
       "      <td>27.034774</td>\n",
       "      <td>639.929903</td>\n",
       "      <td>0.259881</td>\n",
       "      <td>2.230239</td>\n",
       "      <td>10.050895</td>\n",
       "      <td>22.132923</td>\n",
       "      <td>1.073639</td>\n",
       "      <td>2.924683</td>\n",
       "      <td>0.186614</td>\n",
       "      <td>0.801641</td>\n",
       "      <td>0.000000</td>\n",
       "      <td>0.043624</td>\n",
       "      <td>146.609741</td>\n",
       "      <td>4.020134</td>\n",
       "      <td>1.000000</td>\n",
       "      <td>0.853840</td>\n",
       "      <td>2.107569</td>\n",
       "      <td>-20.916370</td>\n",
       "      <td>-46.031213</td>\n",
       "      <td>1.000000</td>\n",
       "    </tr>\n",
       "  </tbody>\n",
       "</table>\n",
       "</div>\n",
       "      <button class=\"colab-df-convert\" onclick=\"convertToInteractive('df-194d4064-b8f5-4229-b448-fd753201ddca')\"\n",
       "              title=\"Convert this dataframe to an interactive table.\"\n",
       "              style=\"display:none;\">\n",
       "        \n",
       "  <svg xmlns=\"http://www.w3.org/2000/svg\" height=\"24px\"viewBox=\"0 0 24 24\"\n",
       "       width=\"24px\">\n",
       "    <path d=\"M0 0h24v24H0V0z\" fill=\"none\"/>\n",
       "    <path d=\"M18.56 5.44l.94 2.06.94-2.06 2.06-.94-2.06-.94-.94-2.06-.94 2.06-2.06.94zm-11 1L8.5 8.5l.94-2.06 2.06-.94-2.06-.94L8.5 2.5l-.94 2.06-2.06.94zm10 10l.94 2.06.94-2.06 2.06-.94-2.06-.94-.94-2.06-.94 2.06-2.06.94z\"/><path d=\"M17.41 7.96l-1.37-1.37c-.4-.4-.92-.59-1.43-.59-.52 0-1.04.2-1.43.59L10.3 9.45l-7.72 7.72c-.78.78-.78 2.05 0 2.83L4 21.41c.39.39.9.59 1.41.59.51 0 1.02-.2 1.41-.59l7.78-7.78 2.81-2.81c.8-.78.8-2.07 0-2.86zM5.41 20L4 18.59l7.72-7.72 1.47 1.35L5.41 20z\"/>\n",
       "  </svg>\n",
       "      </button>\n",
       "      \n",
       "  <style>\n",
       "    .colab-df-container {\n",
       "      display:flex;\n",
       "      flex-wrap:wrap;\n",
       "      gap: 12px;\n",
       "    }\n",
       "\n",
       "    .colab-df-convert {\n",
       "      background-color: #E8F0FE;\n",
       "      border: none;\n",
       "      border-radius: 50%;\n",
       "      cursor: pointer;\n",
       "      display: none;\n",
       "      fill: #1967D2;\n",
       "      height: 32px;\n",
       "      padding: 0 0 0 0;\n",
       "      width: 32px;\n",
       "    }\n",
       "\n",
       "    .colab-df-convert:hover {\n",
       "      background-color: #E2EBFA;\n",
       "      box-shadow: 0px 1px 2px rgba(60, 64, 67, 0.3), 0px 1px 3px 1px rgba(60, 64, 67, 0.15);\n",
       "      fill: #174EA6;\n",
       "    }\n",
       "\n",
       "    [theme=dark] .colab-df-convert {\n",
       "      background-color: #3B4455;\n",
       "      fill: #D2E3FC;\n",
       "    }\n",
       "\n",
       "    [theme=dark] .colab-df-convert:hover {\n",
       "      background-color: #434B5C;\n",
       "      box-shadow: 0px 1px 3px 1px rgba(0, 0, 0, 0.15);\n",
       "      filter: drop-shadow(0px 1px 2px rgba(0, 0, 0, 0.3));\n",
       "      fill: #FFFFFF;\n",
       "    }\n",
       "  </style>\n",
       "\n",
       "      <script>\n",
       "        const buttonEl =\n",
       "          document.querySelector('#df-194d4064-b8f5-4229-b448-fd753201ddca button.colab-df-convert');\n",
       "        buttonEl.style.display =\n",
       "          google.colab.kernel.accessAllowed ? 'block' : 'none';\n",
       "\n",
       "        async function convertToInteractive(key) {\n",
       "          const element = document.querySelector('#df-194d4064-b8f5-4229-b448-fd753201ddca');\n",
       "          const dataTable =\n",
       "            await google.colab.kernel.invokeFunction('convertToInteractive',\n",
       "                                                     [key], {});\n",
       "          if (!dataTable) return;\n",
       "\n",
       "          const docLinkHtml = 'Like what you see? Visit the ' +\n",
       "            '<a target=\"_blank\" href=https://colab.research.google.com/notebooks/data_table.ipynb>data table notebook</a>'\n",
       "            + ' to learn more about interactive tables.';\n",
       "          element.innerHTML = '';\n",
       "          dataTable['output_type'] = 'display_data';\n",
       "          await google.colab.output.renderOutput(dataTable, element);\n",
       "          const docLink = document.createElement('div');\n",
       "          docLink.innerHTML = docLinkHtml;\n",
       "          element.appendChild(docLink);\n",
       "        }\n",
       "      </script>\n",
       "    </div>\n",
       "  </div>\n",
       "  "
      ],
      "text/plain": [
       "   pred           M  freight_value           R  nb_days_order_approved  \\\n",
       "0     0  109.288617      23.593169  453.143716                0.842385   \n",
       "1     1  586.323792      96.162136  474.895143                0.276938   \n",
       "2     2  110.125697      22.997864  454.114343                0.101785   \n",
       "3     3  122.897025      27.034774  639.929903                0.259881   \n",
       "\n",
       "   nb_days_delivered_carrier  nb_days_delivered_customer  \\\n",
       "0                   3.561071                   12.970645   \n",
       "1                   3.435992                   12.977967   \n",
       "2                   2.479960                   11.977305   \n",
       "3                   2.230239                   10.050895   \n",
       "\n",
       "   nb_days_estimate_delivery  payment_sequential  payment_installments  \\\n",
       "0                  23.493292            1.003649              1.002415   \n",
       "1                  24.994693            2.018173              5.220650   \n",
       "2                  23.382645            1.098230              3.324201   \n",
       "3                  22.132923            1.073639              2.924683   \n",
       "\n",
       "   pay_boleto  pay_credit_card  pay_debit_card  pay_voucher  payment_value  \\\n",
       "0    0.911989         0.001717        0.090372     0.000107     130.434106   \n",
       "1    0.235767         1.256353        0.000322     0.241235     646.869768   \n",
       "2    0.002453         0.981745        0.000000     0.059733     130.893643   \n",
       "3    0.186614         0.801641        0.000000     0.043624     146.609741   \n",
       "\n",
       "   review_score  review_title  review_message  nb_days_survey_respond  \\\n",
       "0      4.185217      0.020715        0.357733                2.005313   \n",
       "1      4.052423      0.131554        0.491798                2.127050   \n",
       "2      4.171117      0.001397        0.339894                2.831248   \n",
       "3      4.020134      1.000000        0.853840                2.107569   \n",
       "\n",
       "   geolocation_lat  geolocation_lng         F  \n",
       "0       -21.463298       -46.552066  1.004079  \n",
       "1       -20.504008       -46.012641  1.518173  \n",
       "2       -21.256085       -46.155612  1.000217  \n",
       "3       -20.916370       -46.031213  1.000000  "
      ]
     },
     "execution_count": 21,
     "metadata": {},
     "output_type": "execute_result"
    }
   ],
   "source": [
    "# clusters means\n",
    "df_graph_agg = df_graph.groupby('pred', as_index=False).agg(np.mean)\n",
    "df_graph_agg.head()"
   ]
  },
  {
   "cell_type": "code",
   "execution_count": null,
   "id": "d067b928",
   "metadata": {
    "id": "d067b928"
   },
   "outputs": [],
   "source": []
  }
 ],
 "metadata": {
  "colab": {
   "collapsed_sections": [],
   "machine_shape": "hm",
   "name": "hierarchical_clustering.ipynb",
   "provenance": []
  },
  "gpuClass": "standard",
  "kernelspec": {
   "display_name": "Python 3 (ipykernel)",
   "language": "python",
   "name": "python3"
  },
  "language_info": {
   "codemirror_mode": {
    "name": "ipython",
    "version": 3
   },
   "file_extension": ".py",
   "mimetype": "text/x-python",
   "name": "python",
   "nbconvert_exporter": "python",
   "pygments_lexer": "ipython3",
   "version": "3.7.4"
  }
 },
 "nbformat": 4,
 "nbformat_minor": 5
}
